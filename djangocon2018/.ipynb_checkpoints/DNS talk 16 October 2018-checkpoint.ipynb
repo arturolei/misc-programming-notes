{
 "cells": [
  {
   "cell_type": "markdown",
   "metadata": {},
   "source": [
    "# What's in a Name? Your Guide to the Wacky World of DNS\n",
    "### Ashley Sullins, 16 October 2018\n",
    "\n",
    "## Context:\n",
    "- Sometimes server errors are not server errors; they are DNS errors. What are DNS errors?\n",
    "\n",
    "## How does it all work?: Technical Details\n",
    "- If you type in Google.com, it goes for top level domain first (.com, .edu) then it goes to the name servers\n",
    "\n",
    "## Where can I find my nameservers?\n",
    "- who.is \n",
    "    - type in domain name--it will show you where the registrar is. \n",
    "    \n",
    "## Where's my new website?\n",
    "- Authoritative DNS server, server where DNS information is stored\n",
    "- Recursive DNS Server- looks up information on authoritative server\n",
    "- Best Practice: Set the TTL to smallest number of seconds by name serivious 24-48 prior to launch\n",
    "- Be sure to change this number back post-launch\n",
    "- Remember DNS caching--> What is the?\n",
    "- When you are not sure if something is DNS issue or caching issue:\n",
    "    - Use mobile device with wifi disabled; it access\n",
    "- Check root A record\n",
    "- Check www/* record\n",
    "- Verify name servers\n",
    "- Check for redirection outside DNS\n",
    "- For mobile issues check m or mobile version\n",
    "\n",
    "Some good tips but felt rushed. Also rather tired. \n",
    "http://shorturl.at/prDV3"
   ]
  },
  {
   "cell_type": "code",
   "execution_count": null,
   "metadata": {
    "collapsed": true
   },
   "outputs": [],
   "source": []
  },
  {
   "cell_type": "code",
   "execution_count": null,
   "metadata": {
    "collapsed": true
   },
   "outputs": [],
   "source": []
  }
 ],
 "metadata": {
  "kernelspec": {
   "display_name": "Python 3",
   "language": "python",
   "name": "python3"
  },
  "language_info": {
   "codemirror_mode": {
    "name": "ipython",
    "version": 3
   },
   "file_extension": ".py",
   "mimetype": "text/x-python",
   "name": "python",
   "nbconvert_exporter": "python",
   "pygments_lexer": "ipython3",
   "version": "3.6.0"
  }
 },
 "nbformat": 4,
 "nbformat_minor": 2
}

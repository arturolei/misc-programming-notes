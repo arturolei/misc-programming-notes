{
 "cells": [
  {
   "cell_type": "markdown",
   "metadata": {},
   "source": [
    "# Data internationalization in Django\n",
    "### Raphael Michel, 17 October 2018\n",
    "\n",
    "## Internationalization in Django?\n",
    "- Django has set of features that allow for translation into other languages\n",
    "- django.utils.translation and ugettext\n",
    "- See pretix django project, online ticketing purchasing system\n",
    "    - Presenting ticket purchasing interface in multiple languages at same time\n",
    "    \n",
    "## Movie example\n",
    "- How do we create a movie db when some paramaters, e.g. title, are subject to localizations?\n",
    "- One solution: Unique id for movie, second table with each unique id corresponding to several rows of alternate titles, problem need multiple joins\n",
    "- Other solution: Separate columns for multiple languages---> every time you add a language, db migration necessitated\n",
    "- Other solution: compound field (e.g. object for title {\"en\": English title, \"it\": Italian title}--avoids db migration \n",
    "\n",
    "NB: Not all models supported by all sorts of database structures--be aware of computing costs\n",
    "\n",
    "Fascinating table/schema set-up problem--non-triviality of structuring a database\n"
   ]
  },
  {
   "cell_type": "code",
   "execution_count": null,
   "metadata": {
    "collapsed": true
   },
   "outputs": [],
   "source": []
  }
 ],
 "metadata": {
  "kernelspec": {
   "display_name": "Python 3",
   "language": "python",
   "name": "python3"
  },
  "language_info": {
   "codemirror_mode": {
    "name": "ipython",
    "version": 3
   },
   "file_extension": ".py",
   "mimetype": "text/x-python",
   "name": "python",
   "nbconvert_exporter": "python",
   "pygments_lexer": "ipython3",
   "version": "3.6.0"
  }
 },
 "nbformat": 4,
 "nbformat_minor": 2
}

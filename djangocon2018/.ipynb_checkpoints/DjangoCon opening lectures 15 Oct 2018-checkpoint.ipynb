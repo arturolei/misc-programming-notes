{
 "cells": [
  {
   "cell_type": "markdown",
   "metadata": {},
   "source": [
    "## Some Misc Notes:\n",
    "\n",
    "### West Lawn at the Mariott, 6:30pm to 8:00pm\n",
    "- Groups meet and decide dinner\n",
    "\n",
    "### Note: Color codes\n",
    "\n",
    "### Volunteers still needed. \n",
    "\n",
    "What are RedShelf? \n",
    "\n",
    "# First Keynote: Chloe Condon\n",
    "- Developer Evangelist for sentry.io, Theatrical Background\n",
    "- A \"Thought Leader\" in Crypto and Blockchain (how?--> Joining a LinkedIn Group, Accidentally became a leader, accidentally fail upwards?)\n",
    "- A comedy of errors---> Person still getting invited to do crypto stuff--->Things snowball\n",
    "- See medium page: (https://medium.com/newco/how-to-succeed-at-being-a-crypto-blockchain-influencer-without-really-trying-949327ea2d47)\n",
    "- *non-traditional background*: came from theatre background, artist parents, realized how little money people in theatre make\n",
    "- Heard talk at Google about women learning to code, boyfriend was android dev\n",
    "### Differences between theatre and tech:\n",
    "- Gender \"balance\" is the opposite\n",
    "- Tech industry is far less competitive \n",
    "- People don't sing as much\n",
    "- Livable wage\n",
    "- More meritocratic, fairer\n",
    "- Meetups and tech events tend be a bit more boring \n",
    "\n",
    "### Examples of some other folk who transitioned to tech:\n",
    "- Muay Thai Fighter, Opera singer, horticulturalist\n",
    "\n",
    "### What Do You Do With A BA Drama?\n",
    "- Making people laugh\n",
    "- From playing a crayon and doing children's theatre\n",
    "- Memory hooks (branding, humanizing the product)\n",
    "    - Note use of humor in ads, sharing common problem, then proposing solution \n",
    "    - See sentry.io \n",
    "- Make content interesting (using gif's)\n",
    "- Lowering affective filter --> having fun, remember what relaxes people\n",
    "\n",
    "### Giving Technical Talks: \n",
    "- Don't put people to sleep\n",
    "- Plant questions in the audience\n",
    "- Engineers are people, too; treat people the way you want to be treated\n",
    "- Bring humor to everything you do"
   ]
  },
  {
   "cell_type": "code",
   "execution_count": null,
   "metadata": {
    "collapsed": true
   },
   "outputs": [],
   "source": []
  }
 ],
 "metadata": {
  "kernelspec": {
   "display_name": "Python 3",
   "language": "python",
   "name": "python3"
  },
  "language_info": {
   "codemirror_mode": {
    "name": "ipython",
    "version": 3
   },
   "file_extension": ".py",
   "mimetype": "text/x-python",
   "name": "python",
   "nbconvert_exporter": "python",
   "pygments_lexer": "ipython3",
   "version": "3.6.0"
  }
 },
 "nbformat": 4,
 "nbformat_minor": 2
}

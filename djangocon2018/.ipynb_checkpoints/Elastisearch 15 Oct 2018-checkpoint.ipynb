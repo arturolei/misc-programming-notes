{
 "cells": [
  {
   "cell_type": "markdown",
   "metadata": {},
   "source": [
    "# Elasticsearch: Accelerating the Django Admin\n",
    "## 15 Oct 2018\n",
    "## Kate Kligman, Engineer on Grove Collaborative Team\n",
    "\n",
    "Grow Collaborative runs Django 1.11, Heroku, AWS RDS Postgres \n",
    "- Massive growth (>3000% in 3 years)\n",
    "\n",
    "Django Full-Text Search Query begins to lag/suffer as data grows. Search times go up. \n",
    "- At worst Grove Collaborative, one query taking 12 seconds\n",
    "\n",
    "### Elasticsearch\n",
    "- Actual search engine\n",
    "- Similar to SQL:\n",
    "    - Index = Database\n",
    "    - Mapping = Table Schema\n",
    "    - Field = Table Column\n",
    "    - Document = Table Row\n",
    "- Inverted index?\n",
    "- Ranked ordering of results\n",
    "- Allows for Admin Search parameters\n",
    "- Rapid updating allowable? \n",
    "- Two Official Django Implementations:\n",
    "    - elasticsearch-dsl-py\n",
    "    - elasticsearch-py\n",
    "\n"
   ]
  }
 ],
 "metadata": {
  "kernelspec": {
   "display_name": "Python 3",
   "language": "python",
   "name": "python3"
  },
  "language_info": {
   "codemirror_mode": {
    "name": "ipython",
    "version": 3
   },
   "file_extension": ".py",
   "mimetype": "text/x-python",
   "name": "python",
   "nbconvert_exporter": "python",
   "pygments_lexer": "ipython3",
   "version": "3.6.0"
  }
 },
 "nbformat": 4,
 "nbformat_minor": 2
}

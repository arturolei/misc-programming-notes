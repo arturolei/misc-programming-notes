{
 "cells": [
  {
   "cell_type": "markdown",
   "metadata": {},
   "source": [
    "# Real Life Accessibility: Have you HEARD your site?\n",
    "### Mike Herring, 17 October 2018\n",
    "\n",
    "## Why does accessibility matter?\n",
    "- \"Pinball Wizard\" by the Who: a blind kid who becomes a pinball wizard because he masters other aspects\n",
    "- Could Tommy from \"Pinball Wizard\" use your site?\n",
    "- About 12.8% have some sort of disability \n",
    "    - Percentage is increasing because population is getting older\n",
    "    - Legally blind might double in next three decades\n",
    "- We focus on IE11 problems\n",
    "- About 23% of visually impaired/disabled never go online, only 39% feel confident online\n",
    "- WebAIM Survey: Lack of awareness, more accessible content more helpful better than tools\n",
    "\n",
    "## Do I really HAVE to?\n",
    "- It's the right thing to do.\n",
    "- It's the law (see US Law for example); you have to make your content accessible-->Your small business could be next\n",
    "    - Section 508 of Rehabilitation Content of 1973\n",
    "    - ADA 1990--> Applies to business\n",
    "    \n",
    "## How do I do this?\n",
    "- W3C WAI, Web Accessibility Initative\n",
    "    - See WCAG: guidelines for accessibility\n",
    "\n",
    "## WCAG\n",
    "- Perceivable- by anyone or anything\n",
    "- Operable (can you operate this site using only a mouse)\n",
    "- Understandable (acronyms explained, behave in a predictable manner)\n",
    "- Robust (using well-formed HTMl and such so accessibility apps can use it)\n",
    "- \"Following these guidelines will often make your content more usable to users in general\"\n",
    "\n",
    "## HTML 2.0\n",
    "- alt--PLEASE provide alt tages for your images\n",
    "- tabindex-- Control tab order of the element, tabindex = 0, the browser follows DOM order--> Think about people navigating by keyboard, tabindex = -1 will skip the element\n",
    "- h1 to h6\n",
    "    - Organize your document like a tree using headings and sub-headings\n",
    "    - 1 h1 per page\n",
    "    - Don't skip levels\n",
    "    - Users rely on headings\n",
    "    - H1 DOESN'T MEAN BIG TEXT\n",
    "\n",
    "## Semantic Tags\n",
    "- Semantic tags are important anyway to avoid div soup\n",
    "- Use semantic html tags to help accessibility/accessibility API/screen readers\n",
    "- Accessibility API will look at your site and determine the way things are structure\n",
    "\n",
    "## ARIA: Accessible Rich Internet Applications\n",
    "- ARIA roles: disguise one element as another\n",
    "- ARIA properties such as aria-level, aria-hidden (to explain things like pop-up or things not readily visible from the mark-up)\n",
    "    - ARIA-hidden = content not necessary represented\n",
    "    \n",
    "## Automatic Accessibility Checkers\n",
    "- W3C List of tools\n",
    "    - https://www.w3.org/WAI/ER/tools\n",
    "    \n",
    "## Time to Get Real\n",
    "1. Unplug your mouse\n",
    "2. Put on headphones\n",
    "3. Use Text-To-Speech (VoiceOver)\n",
    "4. See if you can navigate/use your site\n",
    "\n",
    "## Mezzaine\n",
    "- Django CMS that has strong accessibility\n",
    "\n",
    "## Accessibility:\n",
    "- Please make your site accessible. \n",
    "\n",
    "    "
   ]
  },
  {
   "cell_type": "code",
   "execution_count": null,
   "metadata": {
    "collapsed": true
   },
   "outputs": [],
   "source": []
  }
 ],
 "metadata": {
  "kernelspec": {
   "display_name": "Python 3",
   "language": "python",
   "name": "python3"
  },
  "language_info": {
   "codemirror_mode": {
    "name": "ipython",
    "version": 3
   },
   "file_extension": ".py",
   "mimetype": "text/x-python",
   "name": "python",
   "nbconvert_exporter": "python",
   "pygments_lexer": "ipython3",
   "version": "3.6.0"
  }
 },
 "nbformat": 4,
 "nbformat_minor": 2
}

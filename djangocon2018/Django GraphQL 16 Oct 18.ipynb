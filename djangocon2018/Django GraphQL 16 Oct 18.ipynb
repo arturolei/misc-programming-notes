{
 "cells": [
  {
   "cell_type": "markdown",
   "metadata": {},
   "source": [
    "# Introduction to Django and GraphQL\n",
    "\n",
    "NB: \n",
    "- Very hard to hear the speaker\n",
    "- What is REST?\n",
    "\n",
    "### Context:\n",
    "- High number of requests required; risk taking a lot of time and cmputing resources \n",
    "\n",
    "### GraphQL\n",
    "- Created by FB in 2012\n",
    "- GraphQL is a query language for APIs\n",
    "- Single HTTP Endpoint \n",
    "- POST request sending everything we needed\n",
    "- Types:\n",
    "    - Scalar (int, id, etc)\n",
    "    - Objects (more or less what it says on the tin)\n",
    "- Introspection: \n",
    "    - What is introspection? \n",
    "- Query, Mutation, Subscription\n",
    "- Query? Graphene django\n",
    "- Polls query?\n",
    "- Asking and getting only what is needed\n",
    "- This might not have been the ideal talk\n",
    "\n",
    "### Authentication and GraphQL\n",
    "- Django Sessions\n",
    "- Headers?\n",
    "    -REST API's tokens\n",
    "- Params?\n",
    " "
   ]
  },
  {
   "cell_type": "code",
   "execution_count": null,
   "metadata": {
    "collapsed": true
   },
   "outputs": [],
   "source": []
  }
 ],
 "metadata": {
  "kernelspec": {
   "display_name": "Python 3",
   "language": "python",
   "name": "python3"
  },
  "language_info": {
   "codemirror_mode": {
    "name": "ipython",
    "version": 3
   },
   "file_extension": ".py",
   "mimetype": "text/x-python",
   "name": "python",
   "nbconvert_exporter": "python",
   "pygments_lexer": "ipython3",
   "version": "3.6.0"
  }
 },
 "nbformat": 4,
 "nbformat_minor": 2
}

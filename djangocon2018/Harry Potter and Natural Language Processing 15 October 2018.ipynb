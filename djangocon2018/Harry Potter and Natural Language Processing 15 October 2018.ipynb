{
 "cells": [
  {
   "cell_type": "markdown",
   "metadata": {},
   "source": [
    "# A Bossy Sort of Voice: Uncovering gender bias in Harry Potter with Python\n",
    "## Eleanor Stribling, 15 Oct 2018\n",
    "\n",
    "## Context: \n",
    "Not a code heavy approach\n",
    "Genesis for project was her reading HP with kid. \n",
    "- Why could Hermione not have been the hero?\n",
    "- Text mentions Hermione has a \"bossy sort of voice\" (the stigma of being a \"bossy\" girl)\n",
    "- How does HP use \"shrill\" or frame female voices?\n",
    "\"I'm doing a conference talk about sexism in Harry Potter\" = Shock on people's faces\n",
    "- However, others have thought the same (see the lit theory literature on HP)\n",
    "    - Lit scholar approach focuses on particular moments but not broad programmatic/systematic analysis\n",
    "## Methodology\n",
    "- Jupyter, PyPlot, Natural Language (module?)\n",
    "\n",
    "## Approach\n",
    "- **Hypothesis: Of three protagonists, only Hermione will be described with terms associated with negative female characteristics\n",
    "- Focus: \n",
    "    - Narration not dialogue \n",
    "    - Concentrate on how actions are described--> Focus on verbs and adjectives\n",
    "    - ONly three main protagonists\n",
    "    \n",
    "## Three Steps for Analyzing the Text\n",
    "1. Get text in great format\n",
    "    - Open txt into a gion string\n",
    "    - Use NLTK to make a giant list of words and punctuation\n",
    "2. Isolate what parts of text we want to analyze\n",
    "    - Strip out anything caught between quotes-->Thank goodness English is consistent\n",
    "    - Search remainder for character mentions\n",
    "    - Sidebar: Searching for language patterns\n",
    "        - Patterns found how?--> Look for patterns\n",
    "3. Words used to describe only Hermione in each book?\n",
    "    - How it differs with respect to other characters?\n",
    "    - Squealing and other stuff\n",
    "    \n",
    "## Takeaway from this:\n",
    "Coded language and everyday bias\n",
    "- What words do we use to describe other?\n",
    "    - Sassy, hystrical, urban? \n",
    "    - Bossy? Reclaiming/time contexts?\n",
    "\n",
    "\n",
    "\n",
    "## Conclusion:\n",
    "Great talk, makes me want to do textual analysis\n",
    "SHe also does a lot of textual analysis--> Need to check out her work."
   ]
  },
  {
   "cell_type": "code",
   "execution_count": null,
   "metadata": {
    "collapsed": true
   },
   "outputs": [],
   "source": []
  }
 ],
 "metadata": {
  "kernelspec": {
   "display_name": "Python 3",
   "language": "python",
   "name": "python3"
  },
  "language_info": {
   "codemirror_mode": {
    "name": "ipython",
    "version": 3
   },
   "file_extension": ".py",
   "mimetype": "text/x-python",
   "name": "python",
   "nbconvert_exporter": "python",
   "pygments_lexer": "ipython3",
   "version": "3.6.0"
  }
 },
 "nbformat": 4,
 "nbformat_minor": 2
}

{
 "cells": [
  {
   "cell_type": "markdown",
   "metadata": {},
   "source": [
    "# One Engineer, an API, and an MVP: Or how I spent one hour improving hiring data at my company\n",
    "### Nicole Zuckerman\n",
    "\n",
    "## Context:\n",
    "- Applicant pool diversity\n",
    "- Retaining diverse talent pool\n",
    "- Measuring whether current pool is diverse\n",
    "- What stops us from collecting data to help us improve?\n",
    "\n",
    "## Overview\n",
    "- MVP\n",
    "- V2\n",
    "- Gotchas\n",
    "\n",
    "## Hackday MVP\n",
    "- One time app, with view\n",
    "- Nested loop\n",
    "- Unclear how this thing works? Comparing EEOC data\n",
    "\n",
    "## V2\n",
    "- Comparing applicant pool with EEOC\n",
    "- Snapshot of protected classes and distribution \n",
    "- Sensitivity of available information\n",
    "- do not do anything illegal \n",
    "\n",
    "## Gotchas\n",
    "- What about lack of key data by applicants?--> Understanding why data is sparse\n",
    "\n",
    "## Results\n",
    "- One or more finalists from underrepresented group increases likelihood of selection\n",
    "- Atipica--> WebApp exists\n",
    "- Test where at stages, filtering or reduction is happening--ID pain points (where does candidate diversity drop off)\n"
   ]
  },
  {
   "cell_type": "code",
   "execution_count": null,
   "metadata": {
    "collapsed": true
   },
   "outputs": [],
   "source": []
  }
 ],
 "metadata": {
  "kernelspec": {
   "display_name": "Python 3",
   "language": "python",
   "name": "python3"
  },
  "language_info": {
   "codemirror_mode": {
    "name": "ipython",
    "version": 3
   },
   "file_extension": ".py",
   "mimetype": "text/x-python",
   "name": "python",
   "nbconvert_exporter": "python",
   "pygments_lexer": "ipython3",
   "version": "3.6.0"
  }
 },
 "nbformat": 4,
 "nbformat_minor": 2
}

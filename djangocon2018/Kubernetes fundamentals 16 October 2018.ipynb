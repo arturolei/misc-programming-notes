{
 "cells": [
  {
   "cell_type": "markdown",
   "metadata": {},
   "source": [
    "# Fundamentals of Kubernetes for Django developers\n",
    "### Graham Dumpleton, 16 October 2018\n",
    "\n",
    "## Context:\n",
    "- Kubernetes as up and coming bad thing\n",
    "- Containers are a big buzzword in last few years\n",
    "    - Containers have actually been around for a long time (Google since 2001/2002)\n",
    "    - Chroot \n",
    "    - Docker suddenly \n",
    "\n",
    "## What is a container?\n",
    "- Similar to virtuailization \n",
    "    - Virtual Machine/Sandboxing--> Have another OS on your sytem--> Sort of like a virtual environment but a virtual machine\n",
    "- Containers are similar and offer protection\n",
    "- Much quicker than starting things\n",
    "\n",
    "## Building an Image\n",
    "- Dockerfile is used to build an image (which contains all the bits and pieces you need, e.g. Windows, Ubuntu and instructions on how to use\n",
    "- IMage is then pushed to image registry\n",
    "- Then do \"Docker run\"---> Saves a lot of work versus past previous way (Underneath it's still old school Linux containers)\n",
    "\n",
    "## Problems\n",
    "- Running single containers is easy\n",
    "    - Docker is great for running on one machine\n",
    "- Running multiple containers becomes problematic\n",
    "\n",
    "## Kubernetes\n",
    "- Nodes and master nodes, multile containers? \n",
    "- Key term: Pods\n",
    "- Kubernetes automates a lot of server issues\n",
    "\n",
    "Highly technical, barely understood much of it. However, I have a better idea of what Kubernetes is. "
   ]
  },
  {
   "cell_type": "code",
   "execution_count": null,
   "metadata": {
    "collapsed": true
   },
   "outputs": [],
   "source": []
  }
 ],
 "metadata": {
  "kernelspec": {
   "display_name": "Python 3",
   "language": "python",
   "name": "python3"
  },
  "language_info": {
   "codemirror_mode": {
    "name": "ipython",
    "version": 3
   },
   "file_extension": ".py",
   "mimetype": "text/x-python",
   "name": "python",
   "nbconvert_exporter": "python",
   "pygments_lexer": "ipython3",
   "version": "3.6.0"
  }
 },
 "nbformat": 4,
 "nbformat_minor": 2
}

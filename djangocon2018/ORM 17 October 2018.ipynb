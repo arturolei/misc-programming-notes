{
 "cells": [
  {
   "cell_type": "markdown",
   "metadata": {},
   "source": [
    "# ORM: The Sequel\n",
    "### Katie McLaughlin, 17 October 2018\n",
    "\n",
    "## Context:\n",
    "- ORM = Object Relational Mapper\n",
    "- Databases all have something like SQL in common\n",
    "- Solve problems in admin vs. using the Shell\n",
    "\n",
    "## How to Get to Shell\n",
    "- Go to project directory\n",
    "- After getting it all set-up--> manage.py shell\n",
    "- To use shell, **you need to know how to use Django ORM** commands\n",
    "    - Find al tables? How do we show tables--> Remmeber Django focuses on Models (Models are like the tables in SQL?)\n",
    "    \n",
    "## How to show the data?\n",
    "- Use a helper script to figure out what it is going on. \n",
    "- Find a table for a model\n",
    "- In short, showing tables based on models in DJango is non-trivial and requires understanding bizarro Django syntax\n",
    "    - Objects.all()?\n",
    "    - QuerySet is not a list but looks like one\n",
    "- Need to find specific file/object to get basic data\n",
    "\n",
    "## Joins\n",
    "- How do we do joins in DJango?\n",
    "- Judicious use of .filter method (design.objects.filter(codepoint_name=\"sparkles\")\n",
    "    - NB: Use of careful filter and dunder files\n",
    "\n",
    "## UML\n",
    "- Unified Modeling Language: What is this?\n",
    "- UML diagrams? We can generate these? How is this useful?\n",
    "\n",
    "## More Complex Joins\n",
    "- Allowed in Django?\n",
    "- Q() and filter()--> SELECT * FROM X where C= Y\n",
    "- In essence, filter() ~= join()\n",
    "\n",
    "ORM does not do aggregation? Yes, it does (count)\n",
    "ORM does other calculations? Yes, it does (annotations)\n",
    "ORM does explain plans? Yes, it does"
   ]
  },
  {
   "cell_type": "code",
   "execution_count": null,
   "metadata": {
    "collapsed": true
   },
   "outputs": [],
   "source": []
  }
 ],
 "metadata": {
  "kernelspec": {
   "display_name": "Python 3",
   "language": "python",
   "name": "python3"
  },
  "language_info": {
   "codemirror_mode": {
    "name": "ipython",
    "version": 3
   },
   "file_extension": ".py",
   "mimetype": "text/x-python",
   "name": "python",
   "nbconvert_exporter": "python",
   "pygments_lexer": "ipython3",
   "version": "3.6.0"
  }
 },
 "nbformat": 4,
 "nbformat_minor": 2
}

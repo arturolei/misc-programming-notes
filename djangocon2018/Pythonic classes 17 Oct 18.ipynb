{
 "cells": [
  {
   "cell_type": "markdown",
   "metadata": {},
   "source": [
    "# Easier Classes: Python Classes Without All The Cruft\n",
    "### Python Morsels guy, 17 Oct 2018\n",
    "\n",
    "## Context:\n",
    "- How do we make better (more readable, comparable) classes in Python?\n",
    "\n",
    "## Case 2: Point Class\n",
    "- Want something iterable and unpacking allowable, also immutable\n",
    "\n",
    "- Produces boilerplate code solution\n",
    "```python\n",
    "class Point:\n",
    "   def __init__(self, x,y,z):\n",
    "       pass\n",
    "   def \n",
    "```\n",
    "\n",
    "- Named tuple solution\n",
    "    - Seems to do what we want\n",
    "    - Named tuples do inherit from tuples\n",
    "    - Named tuples however are orderable\n",
    "    - Operations such as * or + produce unexpected results\n",
    "```python \n",
    "     from typing import NamedTuple\n",
    "\n",
    "class Point(NamedTuple):\n",
    "  x: float\n",
    "  y: float\n",
    "  z: float\n",
    "```\n",
    "\n",
    "- Maybe import attr/pip install attr\n",
    "    -Attrs is 3rd party\n",
    "\n",
    "- Other solution--use dataclasses\n",
    "    - dataclasses in 3.7\n",
    "\n",
    "## Friendly Classes Recipes\n",
    "- Dataclasses give us good string representation out of the box\n",
    "- Immutability (frozen = True)\n",
    "\n",
    "## When making classes, consider you don't always need custom classes for your data\n",
    "- See Jack Diederich's Stop Writing Classes"
   ]
  }
 ],
 "metadata": {
  "kernelspec": {
   "display_name": "Python 3",
   "language": "python",
   "name": "python3"
  },
  "language_info": {
   "codemirror_mode": {
    "name": "ipython",
    "version": 3
   },
   "file_extension": ".py",
   "mimetype": "text/x-python",
   "name": "python",
   "nbconvert_exporter": "python",
   "pygments_lexer": "ipython3",
   "version": "3.6.0"
  }
 },
 "nbformat": 4,
 "nbformat_minor": 2
}

{
 "cells": [
  {
   "cell_type": "markdown",
   "metadata": {},
   "source": [
    "# \"State of Django\" Panel\n",
    "### 17 October 2018\n",
    "- Andrew Godwin (migration), Anna Makarudze, Frank Wiles, Katherine Michel, Jeff Triplett, Coronel, Calhoun\n",
    "\n",
    "### Importance of DjangoGirls\n",
    "- Sizable contribution\n",
    "- Impact/import for having best possible education experience\n",
    "- What next? We do we do after the DjangoGirls tutorial?\n",
    "\n",
    "### What makes a good mentor?\n",
    "- Kojo: Caring about your mentee's advancement\n",
    "- Let mentees know about opportunities and events, especially ones that might not be on their radar\n",
    "- Remember what it was like to be a beginner\n",
    "\n",
    "### Other Comments:\n",
    "- Event planning experience is important for getting support for conferences\n",
    "    - Larger conferences will require more scrutiny. \n",
    "- How do we encourage Django-related events on a smaller scale?\n",
    "    - Django Days?\n",
    "- DjangoCon as being more about things not just strictly Django? \n",
    "- Django Pan Africa conference?\n",
    "    - Difficulties of international planning\n",
    "- Making Django truly international?\n",
    "    - Documentation and whatnot?\n",
    "    - DjangoGirls Korea-->Translating materials-->Help is still needed\n",
    "    \n",
    "### DjangoCon as a diverse conference: How did this happen?\n",
    "- Good code of conduct, actionable\n",
    "- Emphasis on inviting people who use the platform\n",
    "\n",
    "### Django Core Concerns and Issues:\n",
    "- New governance model? Django Core does not reflect the make-up of the people in the room. \n",
    "- Django Enhancement Proposal? DEP?\n",
    "- Making commits more public? Increased transparency\n",
    "- Formalizing the role of a merger--> Reducing multi-tier approach for consensus-driven approach\n",
    "- Removing the private mailing list to inform the public\n",
    "- the Face of Django should reflect the \"diverse community that we are becoming\"\n",
    "- Django Fellows---> Hired to do the bug triage\n",
    "- People who use Django want something to do what they wanted it to do\n",
    "- Emphasize how Django can be useful\n",
    "\n",
    "\n",
    "### Django Frameworks (Ambitious projects)\n",
    "- Andrew Godwin: What is Django? \n",
    "    - Django has achieved its major goals (newsroom)\n",
    "    - Async stuff? Making Django more async capable\n",
    "    - MySQL and Geospatial support (GeoDjango?)\n",
    "    - We should look at what competitors (e.g. Node) are doing and see what Django lacks.-->We have the shiny new things as well as being an established framework. \n",
    "\n",
    "### Django\n",
    "- DSF has funding but does not have a lot of asks but also not a lot of projects\n",
    " "
   ]
  },
  {
   "cell_type": "code",
   "execution_count": null,
   "metadata": {
    "collapsed": true
   },
   "outputs": [],
   "source": []
  }
 ],
 "metadata": {
  "kernelspec": {
   "display_name": "Python 3",
   "language": "python",
   "name": "python3"
  },
  "language_info": {
   "codemirror_mode": {
    "name": "ipython",
    "version": 3
   },
   "file_extension": ".py",
   "mimetype": "text/x-python",
   "name": "python",
   "nbconvert_exporter": "python",
   "pygments_lexer": "ipython3",
   "version": "3.6.0"
  }
 },
 "nbformat": 4,
 "nbformat_minor": 2
}

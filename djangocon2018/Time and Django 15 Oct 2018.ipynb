{
 "cells": [
  {
   "cell_type": "markdown",
   "metadata": {},
   "source": [
    "# It's about time\n",
    "## Russell Keith-Magee, BeeWare project, 15 October 2018\n",
    "\n",
    "## Context:\n",
    "Early Programming Assignment, difficulty of finding problem\n",
    "Who moved my vernal Equinox?: the Calendar problem in the early modern era (Gregorian Calendar)\n",
    "- What happened to the Vernal Equinox?\n",
    "- The Computus Problem\n",
    "When did the 1918 \"October Revolution\" start?\n",
    "- It happened in November 7 on Gregorian Calendar (Russia still on other calendar)\n",
    "- Number of days in the year was regionally dependent (depending on what country, e.g. Britain did not adopt till 1752)\n",
    "\n",
    "\"Time is the school in which we learn, time is the fire in which we burn.\" - Delmore Schwartz\n",
    "\n",
    "Understanding problems holistically --> Key to solving problems, e.g. Y2K. \n",
    "\n",
    "Epoch Overflow (2038 Problem--> Overflow)\n",
    "\n",
    "All systems have limitations.\n",
    "All systems make assumptions.\n",
    "\n",
    "Datetime module"
   ]
  }
 ],
 "metadata": {
  "kernelspec": {
   "display_name": "Python 3",
   "language": "python",
   "name": "python3"
  },
  "language_info": {
   "codemirror_mode": {
    "name": "ipython",
    "version": 3
   },
   "file_extension": ".py",
   "mimetype": "text/x-python",
   "name": "python",
   "nbconvert_exporter": "python",
   "pygments_lexer": "ipython3",
   "version": "3.6.0"
  }
 },
 "nbformat": 4,
 "nbformat_minor": 2
}

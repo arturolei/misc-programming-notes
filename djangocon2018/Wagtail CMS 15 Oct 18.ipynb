{
 "cells": [
  {
   "cell_type": "markdown",
   "metadata": {},
   "source": [
    "# Wagtail CMS: Making Django more user and developer friendly, 15 Oct 2018\n",
    "## Speaker: Sara Heins\n",
    "- Self-taught developer, non-traditional developer\n",
    "- Wagtail Developers\n",
    "Link: [Wagtail CMS site](https://wagtail.io/)\n",
    "\n",
    "## What is Wagtail?\n",
    "- CMS for Admin\n",
    "- Rapid page deelopment\n",
    "- Beautiful user friendly admin\n",
    "    - It looks like WordPress Admin but with teal color scheme. \n",
    "- Cons:\n",
    "    - Not much documentation (not great)\n",
    "    - Fewer users, not many Stack Overflow stuff (Really not great, risk of potential dieoff)\n",
    "- Weird naming conventions--SnakeCase--Reliance on naming\n",
    "- Lecture went too fast, too, not quite beginner friendly as advertised--some default templates. Site has better explanation--Could not really code along with presenter\n",
    "- This sounds like something fun to try\n",
    "- Streamlined (no messing with views.py, minimal RegEx)\n",
    "- WagTail--- \n",
    "- [Website for the Slides](sheins.github.io/wagtail)\n",
    "    "
   ]
  },
  {
   "cell_type": "markdown",
   "metadata": {},
   "source": []
  }
 ],
 "metadata": {
  "kernelspec": {
   "display_name": "Python 3",
   "language": "python",
   "name": "python3"
  },
  "language_info": {
   "codemirror_mode": {
    "name": "ipython",
    "version": 3
   },
   "file_extension": ".py",
   "mimetype": "text/x-python",
   "name": "python",
   "nbconvert_exporter": "python",
   "pygments_lexer": "ipython3",
   "version": "3.6.0"
  }
 },
 "nbformat": 4,
 "nbformat_minor": 2
}

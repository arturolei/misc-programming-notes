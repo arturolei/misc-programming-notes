{
 "cells": [
  {
   "cell_type": "markdown",
   "metadata": {},
   "source": [
    "# Anatomy of Open edX - a modern online learning platform serving over 35 million users\n",
    "### Nate Aune\n",
    "\n",
    "# Context:\n",
    "- edX is a Django app\n",
    "- edX is open source\n",
    "- edX is scalable?\n",
    "- edX is a treasure trove if you like to learn\n",
    "\n",
    "## What is edX?\n",
    "- Platform for courses\n",
    "- So many are computer-science related and offered by top universities or associations (W3C)\n",
    "- 17m+ students from around the world\n",
    "\n",
    "## What is Open edX?\n",
    "- Course authoring and delivery platform\n",
    "- Data analytics creditionals, enterprise\n",
    "- Open Source (AGPL)\n",
    "- Django/Python\n",
    "- USed by companies such as MongoDB (see MongoDB university catalog, redis University)\n",
    "- Can be used to embed labs\n",
    "- Basically a way of creating MOOCs (that can be hosted on company site)\n",
    "\n",
    "## Growth of Open edX\n",
    "- Healthy community of participants?\n",
    "    - Mailing list?\n",
    "    - 2800 members of Slack (Slack might be eating into mailing list numbers)\n",
    "        - Consistent upward groth\n",
    "    - Contributors and code base contributions have sort of leveled out\n",
    "        - Codebase is mature\n",
    "- Some of the biggest companies use Open edX\n",
    "    - Starbucks, NVIDIA,9 of 39 MOOCs are built on \n",
    "- Some govt are using Open edX\n",
    "    - Taiwan, Jordan\n",
    "- Top Contributions:\n",
    "    - Google, CREDO--> A lot of contributing organizations\n",
    "- Open edX Proposal Process\n",
    "- Come for the code, stay for the community\n",
    "\n",
    "## What is Open edX made of?\n",
    "- Django, Python\n",
    "- edX is about 1.87 \"Django's\"\n",
    "\n",
    "## How is Open edX architected? How does it scale?\n",
    "- See diagram of early architecture (it's abstruse)\n",
    "- Piplelines with multiple database type\n",
    "\n",
    "## How do you deploy this thing?\n",
    "- Infrastructure provisioning (Terraform)\n",
    "- Service configuration (Ansible)\n",
    "- Ax "
   ]
  }
 ],
 "metadata": {
  "kernelspec": {
   "display_name": "Python 3",
   "language": "python",
   "name": "python3"
  },
  "language_info": {
   "codemirror_mode": {
    "name": "ipython",
    "version": 3
   },
   "file_extension": ".py",
   "mimetype": "text/x-python",
   "name": "python",
   "nbconvert_exporter": "python",
   "pygments_lexer": "ipython3",
   "version": "3.6.0"
  }
 },
 "nbformat": 4,
 "nbformat_minor": 2
}

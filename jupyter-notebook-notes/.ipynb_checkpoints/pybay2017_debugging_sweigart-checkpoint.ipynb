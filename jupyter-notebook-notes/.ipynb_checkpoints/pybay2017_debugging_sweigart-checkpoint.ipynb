{
 "cells": [
  {
   "cell_type": "markdown",
   "metadata": {},
   "source": [
    "# \"Logging and Testing and Debugging, Oh My!\" -Al Sweigart\n",
    "\n",
    "Al Sweigart is mostly known for writing *Automate the Boring Stuff* and a ton of other free books. \n",
    "\n",
    "This talk is meant for those who have done the basics but want to know what goes next.\n",
    "\n",
    "If you want to see everything, visit this link: [http://inventwithpython.com/pybay2017.html](http://inventwithpython.com/pybay2017.html)\n",
    "\n",
    "IDLE = \"Greatest IDE ever created)\n",
    "\n"
   ]
  },
  {
   "cell_type": "code",
   "execution_count": null,
   "metadata": {
    "collapsed": true
   },
   "outputs": [],
   "source": [
    "print ('Enter first number.')\n",
    "first = input()\n",
    "print('DEBUG', type(first))\n",
    "print('Enter second number.')\n",
    "second = input()\n",
    "print('DEBUG', type(second))\n",
    "print('The sum of', first,'and',second, 'is', first+second)\n",
    "\n",
    "#Issue: it doesn't add things. Also, \"print debugging is a bad habbit\""
   ]
  },
  {
   "cell_type": "markdown",
   "metadata": {},
   "source": [
    "### PRINT DEBUGGING = VERY BAD\n",
    "\n",
    "Why do logging instead of print?\n",
    "- Debug output vs. normal output\n",
    "- Easy to remove logging messages\n",
    "\n",
    "Logging:\n",
    "import logging\n",
    "logging.basicCongig(level=logging.DEBUG)\n"
   ]
  },
  {
   "cell_type": "code",
   "execution_count": 8,
   "metadata": {},
   "outputs": [
    {
     "name": "stdout",
     "output_type": "stream",
     "text": [
      "Enter first number.\n",
      "2\n",
      "Enter second number.\n",
      "3\n",
      "The sum of 2 and 3 is 23\n"
     ]
    }
   ],
   "source": [
    "\n",
    "import logging\n",
    "logging.basicConfig(level=logging.DEBUG)\n",
    "\n",
    "logging.disable(logging.CRITICAL) #disables logging messages, just comment to let it in or not. \n",
    "\n",
    "print ('Enter first number.')\n",
    "first = input()\n",
    "logging.debug(type(first))\n",
    "print('Enter second number.')\n",
    "second = input()\n",
    "logging.debug(type(first))\n",
    "print('The sum of', first,'and',second, 'is', first+second)"
   ]
  },
  {
   "cell_type": "markdown",
   "metadata": {},
   "source": [
    "### Logging Levels:\n",
    "- Debug\n",
    "    - Low level information\n",
    "- Info\n",
    "    - Records ordinary events\n",
    "    - \"Breadcrumb trail of what happened)\n",
    "- Warn\n",
    "    - Tell you what is going on, not necessarily bad\n",
    "- Error\n",
    "    - Yeah, things have gone wrong. \n",
    "- Critical (for example, logging.basicConfig(level=logging.DEBUG))\n",
    "    - Catastrophic failure\n",
    "    \n",
    "Constants which represent the levels themselves are in uppercase; whereas the functions are in lower-case\n",
    "\n",
    "### Logging to Screen and File\n",
    "logging.basicConfig(level=logging.DEBUG)\n",
    "logging.basicConfig(filename='logfile.txt')\n",
    "\n",
    "### Following Log Files in Real Time\n",
    "tail- f <file name>, in REAL TIME\n",
    "    - Last 10 lines of logging test\n",
    "    \n",
    " logging.basicConfig(filename='logfile.txt', \n",
    "\n",
    "If you find yourself print-debugging, consider logging. \n",
    "\n",
    "If you want to do real debugging, use PyCharm\n",
    "\n",
    "### pdb \n",
    "import pdb; pdb.set_trace()\n",
    "\n"
   ]
  },
  {
   "cell_type": "code",
   "execution_count": null,
   "metadata": {},
   "outputs": [
    {
     "name": "stdout",
     "output_type": "stream",
     "text": [
      "--Return--\n",
      "> <ipython-input-9-8b1d920aa30f>(5)<module>()->None\n",
      "-> import pdb; pdb.set_trace()\n",
      "(Pdb) 2\n",
      "2\n",
      "(Pdb) 2\n",
      "2\n",
      "(Pdb) 2\n",
      "2\n",
      "(Pdb) 2\n",
      "2\n"
     ]
    }
   ],
   "source": [
    "import logging\n",
    "logging.basicConfig(level=logging.DEBUG)\n",
    "\n",
    "logging.disable(logging.CRITICAL) #disables logging messages, just comment to let it in or not. \n",
    "import pdb; pdb.set_trace()\n",
    "\n",
    "print ('Enter first number.')\n",
    "first = input()\n",
    "logging.debug(type(first))\n",
    "print('Enter second number.')\n",
    "second = input()\n",
    "logging.debug(type(first))\n",
    "print('The sum of', first,'and',second, 'is', first+second)"
   ]
  },
  {
   "cell_type": "markdown",
   "metadata": {
    "collapsed": true
   },
   "source": [
    "Step/next\n",
    "\n",
    "Quit the debugger with the q command. \n",
    "\n",
    "pdb is part of the standard library \n",
    "\n",
    "### doctest\n",
    "import doctest\n",
    "doctest.testmod()\n",
    "- You can do light unit-testing into your documentation. "
   ]
  },
  {
   "cell_type": "code",
   "execution_count": 1,
   "metadata": {},
   "outputs": [
    {
     "name": "stdout",
     "output_type": "stream",
     "text": [
      "**********************************************************************\n",
      "File \"__main__\", line 4, in __main__.addTwoNumbers\n",
      "Failed example:\n",
      "    addTwoNumbers(2,2)\n",
      "Expected:\n",
      "    5\n",
      "Got:\n",
      "    4\n",
      "**********************************************************************\n",
      "1 items had failures:\n",
      "   1 of   2 in __main__.addTwoNumbers\n",
      "***Test Failed*** 1 failures.\n"
     ]
    },
    {
     "data": {
      "text/plain": [
       "TestResults(failed=1, attempted=2)"
      ]
     },
     "execution_count": 1,
     "metadata": {},
     "output_type": "execute_result"
    }
   ],
   "source": [
    "def addTwoNumbers(a, b):\n",
    "    '''\n",
    "    Returns the sum of a and b. \n",
    "    >>> addTwoNumbers(2,2)\n",
    "    5\n",
    "    >>> addTwoNumbers(4,2)\n",
    "    6\n",
    "    '''\n",
    "    return a + b\n",
    "\n",
    "#if you import doctest, it'll do the doc string\n",
    "\n",
    "import doctest\n",
    "doctest.testmod() #doct test runs docstring as if it were an interactive shell"
   ]
  },
  {
   "cell_type": "markdown",
   "metadata": {},
   "source": [
    "Doctest not replacement for unittest\n",
    "- Doctest are for initial unit-tests, some form of test of coverage\n",
    "- Unit tests for documentation (assuring documentation up to date)\n",
    "\n",
    "```python\n",
    "if __name__ == '__main__':\n",
    "    import doctest\n",
    "    doctest.testmod()\n",
    "```"
   ]
  },
  {
   "cell_type": "markdown",
   "metadata": {},
   "source": [
    "So we have doctest, logging, pdb --> so with only a few lines, we can begin to use a few lines."
   ]
  },
  {
   "cell_type": "code",
   "execution_count": null,
   "metadata": {
    "collapsed": true
   },
   "outputs": [],
   "source": []
  }
 ],
 "metadata": {
  "kernelspec": {
   "display_name": "Python 3",
   "language": "python",
   "name": "python3"
  },
  "language_info": {
   "codemirror_mode": {
    "name": "ipython",
    "version": 3
   },
   "file_extension": ".py",
   "mimetype": "text/x-python",
   "name": "python",
   "nbconvert_exporter": "python",
   "pygments_lexer": "ipython3",
   "version": "3.6.0"
  }
 },
 "nbformat": 4,
 "nbformat_minor": 2
}

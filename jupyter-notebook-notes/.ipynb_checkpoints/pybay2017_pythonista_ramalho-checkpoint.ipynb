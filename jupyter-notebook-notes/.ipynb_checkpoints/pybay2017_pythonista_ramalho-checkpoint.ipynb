{
 "cells": [
  {
   "cell_type": "markdown",
   "metadata": {},
   "source": [
    "# How To Think Like A Pythonista: Luciano Ramalho, 13 Agosto\n",
    "Ramalho is author of *Fluent Python* and Technical Principal at Thoughtworks\n",
    "\n",
    "*To building Pythonic objects, observe how real pythonic objects behave - Ancient Chinese Proverb*"
   ]
  }
 ],
 "metadata": {
  "kernelspec": {
   "display_name": "Python 3",
   "language": "python",
   "name": "python3"
  },
  "language_info": {
   "codemirror_mode": {
    "name": "ipython",
    "version": 3
   },
   "file_extension": ".py",
   "mimetype": "text/x-python",
   "name": "python",
   "nbconvert_exporter": "python",
   "pygments_lexer": "ipython3",
   "version": "3.6.0"
  }
 },
 "nbformat": 4,
 "nbformat_minor": 2
}

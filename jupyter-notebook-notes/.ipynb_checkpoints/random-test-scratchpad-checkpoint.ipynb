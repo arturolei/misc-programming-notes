{
 "cells": [
  {
   "cell_type": "markdown",
   "metadata": {},
   "source": [
    "# A Two-Bit Solution to the Exercism Roman Numeral Problem\n",
    "Note:\n",
    "- This program does not work if the number has greater than four digits.\n",
    "  - Of course, that's actually a good question. How did the Romans deal with numbers\n",
    "  greater than 2,000? \n",
    "     - It's really unwieldy to write MMMMMMMMM. \n",
    "     - One solution the Romans had, write V but with a bar over it, to indicate 5,000 [Source](http://www.novaroma.org/via_romana/numbers.html)\n",
    "     - What about numbers in the tens of thousands or hundreds of thousands? What then?\n",
    "       - According to [Wikipedia](https://en.wikipedia.org/wiki/Roman_numerals#Large_numbers), other folks have worked out notation for huge numbers.\n",
    "       - Still, good question: did the average Roman conceive of numbers larger than the thousands? They had rudimentary fractions, but it doesn't mean that they could conceive of numbers like 232.232323239 or 2.23 x 10**4232\n",
    "- It creates four dictionaries.\n",
    "- Perhaps there is a better way to resolve the 4 digit problem. \n",
    "- I might want to time this. "
   ]
  },
  {
   "cell_type": "code",
   "execution_count": 2,
   "metadata": {
    "collapsed": false
   },
   "outputs": [],
   "source": [
    "import timeit\n",
    "def roman_numerals(raw_input):\n",
    "    str_input= str(raw_input).strip()\n",
    "    unums = {'1': 'I','2': 'II', '3': 'III', \n",
    "            '4': 'IV', '5': 'V', '6': 'VI', \n",
    "             '7': 'VII', '8': 'VIII', \n",
    "             '9': 'IX','0':\"\"}\n",
    "    decems = {'1': 'X','2': 'XX', '3': 'XXX', \n",
    "            '4': 'XL', '5': 'L', '6': 'LX', \n",
    "             '7': 'LXX', '8': 'LXXX', \n",
    "             '9': 'XC','0':\"\"}\n",
    "    centums = {'1': 'C','2': 'CC', '3': 'CCC', \n",
    "            '4': 'CD', '5': 'D', '6': 'DC', \n",
    "             '7': 'DCC', '8': 'DCCC', \n",
    "             '9': 'CM','0':\"\"}\n",
    "    millums = {'1': 'M','2': 'MM', '3': 'MMM', \n",
    "            '4': 'MMMM', '5': 'MMMMM', '6': 'MMMMMM', \n",
    "             '7': 'MMMMMMM', '8': 'MMMMMMMM', \n",
    "             '9': 'MMMMMMMMM','0':\"\"}\n",
    "    if len(str_input) == 1:\n",
    "        return unums[str_input]\n",
    "    elif len(str_input) ==2:\n",
    "        return decems[str_input[0]]+unums[str_input[1]]\n",
    "    elif len(str_input) ==3:\n",
    "        return centums[str_input[0]]+decems[str_input[1]]+unums[str_input[2]]\n",
    "    elif len(str_input)==4:\n",
    "        return millums[str_input[0]]+centums[str_input[1]]+decems[str_input[2]]+unums[str_input[3]]"
   ]
  },
  {
   "cell_type": "code",
   "execution_count": 3,
   "metadata": {
    "collapsed": false
   },
   "outputs": [
    {
     "data": {
      "text/plain": [
       "'LV'"
      ]
     },
     "execution_count": 3,
     "metadata": {},
     "output_type": "execute_result"
    }
   ],
   "source": [
    "roman_numerals(55)"
   ]
  },
  {
   "cell_type": "code",
   "execution_count": 4,
   "metadata": {
    "collapsed": false
   },
   "outputs": [
    {
     "data": {
      "text/plain": [
       "'CI'"
      ]
     },
     "execution_count": 4,
     "metadata": {},
     "output_type": "execute_result"
    }
   ],
   "source": [
    "roman_numerals(101)"
   ]
  },
  {
   "cell_type": "code",
   "execution_count": 5,
   "metadata": {
    "collapsed": false
   },
   "outputs": [
    {
     "data": {
      "text/plain": [
       "'XCIX'"
      ]
     },
     "execution_count": 5,
     "metadata": {},
     "output_type": "execute_result"
    }
   ],
   "source": [
    "roman_numerals(99)"
   ]
  },
  {
   "cell_type": "code",
   "execution_count": 6,
   "metadata": {
    "collapsed": false
   },
   "outputs": [
    {
     "data": {
      "text/plain": [
       "'MDXXX'"
      ]
     },
     "execution_count": 6,
     "metadata": {},
     "output_type": "execute_result"
    }
   ],
   "source": [
    "roman_numerals(1530)"
   ]
  },
  {
   "cell_type": "code",
   "execution_count": 7,
   "metadata": {
    "collapsed": false
   },
   "outputs": [
    {
     "data": {
      "text/plain": [
       "'MXXIV'"
      ]
     },
     "execution_count": 7,
     "metadata": {},
     "output_type": "execute_result"
    }
   ],
   "source": [
    "roman_numerals(1024)"
   ]
  },
  {
   "cell_type": "code",
   "execution_count": 8,
   "metadata": {
    "collapsed": false
   },
   "outputs": [
    {
     "data": {
      "text/plain": [
       "'I'"
      ]
     },
     "execution_count": 8,
     "metadata": {},
     "output_type": "execute_result"
    }
   ],
   "source": [
    "roman_numerals(1)"
   ]
  },
  {
   "cell_type": "markdown",
   "metadata": {},
   "source": [
    "#Bethany Solution\n",
    "This is the solution created by Bethany Garcia.\n",
    "- This solution takes advantage of Python string operations. * that does prints strings multiple times. Whee.\n",
    "- Let's time both and see how long they take.\n"
   ]
  },
  {
   "cell_type": "code",
   "execution_count": 12,
   "metadata": {
    "collapsed": true
   },
   "outputs": [],
   "source": [
    "ROMAN = {1:'I', 5:'V', 10:'X', 50:'L', 100:'C', 500:'D', 1000:'M'}\n",
    "\n",
    "def numeral(num):\n",
    "    new_num = [[1000, num - num%1000], \n",
    "               [100, num%1000 - num%100],\n",
    "               [10, num%100 - num%10],\n",
    "               [1, num%10]]\n",
    "\n",
    "    for index, item in enumerate(new_num):\n",
    "        if item[1] == 0: \n",
    "            new_num[index][1] = ''\n",
    "            continue\n",
    "        \n",
    "        if item[1] == 1000:\n",
    "           new_num[index][1] = ROMAN[1000] * (item[1]//1000) \n",
    "           \n",
    "        else:\n",
    "            if item[1]/item[0] == 9:\n",
    "               new_num[index][1] = ROMAN[item[0]] + ROMAN[10*item[0]]\n",
    "            elif item[1]/item[0] ==5:\n",
    "                new_num[index][1] = ROMAN[5 * item[0]]\n",
    "            elif item[1]/item[0] ==4:\n",
    "                new_num[index][1] = ROMAN[1 * item[0]] + ROMAN[5 * item[0]]\n",
    "            elif 9 > item[1]/item[0] > 5:\n",
    "               new_num[index][1] = ROMAN[5 * item[0]] + ROMAN[1 * item[0]] * (item[1]//item[0] - 5)\n",
    "            else:\n",
    "               new_num[index][1] = ROMAN[1 * item[0]] * (item[1]//item[0])\n",
    "               \n",
    "    return ''.join((item[1] for item in new_num))"
   ]
  },
  {
   "cell_type": "code",
   "execution_count": 14,
   "metadata": {
    "collapsed": false,
    "scrolled": true
   },
   "outputs": [
    {
     "name": "stdout",
     "output_type": "stream",
     "text": [
      "10000000 loops, best of 3: 28.8 ns per loop\n"
     ]
    }
   ],
   "source": [
    "% timeit roman_numerals"
   ]
  },
  {
   "cell_type": "code",
   "execution_count": 15,
   "metadata": {
    "collapsed": false
   },
   "outputs": [
    {
     "name": "stdout",
     "output_type": "stream",
     "text": [
      "10000000 loops, best of 3: 45.8 ns per loop\n"
     ]
    }
   ],
   "source": [
    "% timeit numeral"
   ]
  },
  {
   "cell_type": "code",
   "execution_count": null,
   "metadata": {
    "collapsed": true
   },
   "outputs": [],
   "source": []
  }
 ],
 "metadata": {
  "kernelspec": {
   "display_name": "Python 3",
   "language": "python",
   "name": "python3"
  },
  "language_info": {
   "codemirror_mode": {
    "name": "ipython",
    "version": 3
   },
   "file_extension": ".py",
   "mimetype": "text/x-python",
   "name": "python",
   "nbconvert_exporter": "python",
   "pygments_lexer": "ipython3",
   "version": "3.6.0"
  }
 },
 "nbformat": 4,
 "nbformat_minor": 2
}

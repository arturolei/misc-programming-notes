{
 "cells": [
  {
   "cell_type": "markdown",
   "metadata": {},
   "source": [
    "# A Two-Bit Solution to the Exercism Roman Numeral Problem\n",
    "Note:\n",
    "- This program does not work if the number has greater than four digits.\n",
    "  - Of course, that's actually a good question. How did the Romans deal with numbers\n",
    "  greater than 2,000? \n",
    "     - It's really unwieldy to write MMMMMMMMM. \n",
    "     - One solution the Romans had, write V but with a bar over it, to indicate 5,000 [Source](http://www.novaroma.org/via_romana/numbers.html)\n",
    "     - What about numbers in the tens of thousands or hundreds of thousands? What then?\n",
    "       - According to [Wikipedia](https://en.wikipedia.org/wiki/Roman_numerals#Large_numbers), other folks have worked out notation for huge numbers.\n",
    "       - Still, good question: did the average Roman conceive of numbers larger than the thousands? They had rudimentary fractions, but it doesn't mean that they could conceive of numbers like 232.232323239 or 2.23 x 10**4232\n",
    "- It creates four dictionaries.\n",
    "- Perhaps there is a better way to resolve the 4 digit problem. \n",
    "- I might want to time this. "
   ]
  },
  {
   "cell_type": "code",
   "execution_count": 17,
   "metadata": {},
   "outputs": [],
   "source": [
    "import timeit\n",
    "def roman_numerals(raw_input):\n",
    "    str_input= str(raw_input).strip()\n",
    "    unums = {'1': 'I','2': 'II', '3': 'III', \n",
    "            '4': 'IV', '5': 'V', '6': 'VI', \n",
    "             '7': 'VII', '8': 'VIII', \n",
    "             '9': 'IX','0':\"\"}\n",
    "    decems = {'1': 'X','2': 'XX', '3': 'XXX', \n",
    "            '4': 'XL', '5': 'L', '6': 'LX', \n",
    "             '7': 'LXX', '8': 'LXXX', \n",
    "             '9': 'XC','0':\"\"}\n",
    "    centums = {'1': 'C','2': 'CC', '3': 'CCC', \n",
    "            '4': 'CD', '5': 'D', '6': 'DC', \n",
    "             '7': 'DCC', '8': 'DCCC', \n",
    "             '9': 'CM','0':\"\"}\n",
    "    millums = {'1': 'M','2': 'MM', '3': 'MMM', \n",
    "            '4': 'MMMM', '5': 'MMMMM', '6': 'MMMMMM', \n",
    "             '7': 'MMMMMMM', '8': 'MMMMMMMM', \n",
    "             '9': 'MMMMMMMMM','0':\"\"}\n",
    "    if len(str_input) == 1:\n",
    "        return unums[str_input]\n",
    "    elif len(str_input) ==2:\n",
    "        return decems[str_input[0]]+unums[str_input[1]]\n",
    "    elif len(str_input) ==3:\n",
    "        return centums[str_input[0]]+decems[str_input[1]]+unums[str_input[2]]\n",
    "    elif len(str_input)==4:\n",
    "        return millums[str_input[0]]+centums[str_input[1]]+decems[str_input[2]]+unums[str_input[3]]"
   ]
  },
  {
   "cell_type": "markdown",
   "metadata": {},
   "source": [
    "## Some Test Runs"
   ]
  },
  {
   "cell_type": "code",
   "execution_count": 18,
   "metadata": {},
   "outputs": [
    {
     "data": {
      "text/plain": [
       "'LV'"
      ]
     },
     "execution_count": 18,
     "metadata": {},
     "output_type": "execute_result"
    }
   ],
   "source": [
    "roman_numerals(55)"
   ]
  },
  {
   "cell_type": "code",
   "execution_count": 19,
   "metadata": {},
   "outputs": [
    {
     "data": {
      "text/plain": [
       "'CI'"
      ]
     },
     "execution_count": 19,
     "metadata": {},
     "output_type": "execute_result"
    }
   ],
   "source": [
    "roman_numerals(101)"
   ]
  },
  {
   "cell_type": "code",
   "execution_count": 20,
   "metadata": {},
   "outputs": [
    {
     "data": {
      "text/plain": [
       "'XCIX'"
      ]
     },
     "execution_count": 20,
     "metadata": {},
     "output_type": "execute_result"
    }
   ],
   "source": [
    "roman_numerals(99)"
   ]
  },
  {
   "cell_type": "code",
   "execution_count": 21,
   "metadata": {},
   "outputs": [
    {
     "data": {
      "text/plain": [
       "'MDXXX'"
      ]
     },
     "execution_count": 21,
     "metadata": {},
     "output_type": "execute_result"
    }
   ],
   "source": [
    "roman_numerals(1530)"
   ]
  },
  {
   "cell_type": "code",
   "execution_count": 22,
   "metadata": {},
   "outputs": [
    {
     "data": {
      "text/plain": [
       "'MXXIV'"
      ]
     },
     "execution_count": 22,
     "metadata": {},
     "output_type": "execute_result"
    }
   ],
   "source": [
    "roman_numerals(1024)"
   ]
  },
  {
   "cell_type": "code",
   "execution_count": 23,
   "metadata": {},
   "outputs": [
    {
     "data": {
      "text/plain": [
       "'I'"
      ]
     },
     "execution_count": 23,
     "metadata": {},
     "output_type": "execute_result"
    }
   ],
   "source": [
    "roman_numerals(1)"
   ]
  },
  {
   "cell_type": "markdown",
   "metadata": {},
   "source": [
    "# Bethany Solution\n",
    "This is the solution created by Bethany Garcia.\n",
    "- This solution takes advantage of Python string operations. * that does prints strings multiple times. Whee.\n",
    "- This solution uses one dictionary.\n",
    "- Let's time both and see how long they take.\n",
    "\n"
   ]
  },
  {
   "cell_type": "code",
   "execution_count": 37,
   "metadata": {},
   "outputs": [],
   "source": [
    "ROMAN = {1:'I', 5:'V', 10:'X', 50:'L', 100:'C', 500:'D', 1000:'M'}\n",
    "\n",
    "def numeral(num):\n",
    "    new_num = [[1000, num - num%1000], \n",
    "               [100, num%1000 - num%100],\n",
    "               [10, num%100 - num%10],\n",
    "               [1, num%10]]\n",
    "\n",
    "    for index, item in enumerate(new_num):\n",
    "        if item[1] == 0: \n",
    "            new_num[index][1] = ''\n",
    "            continue\n",
    "        \n",
    "        if item[1] == 1000:\n",
    "           new_num[index][1] = ROMAN[1000] * (item[1]//1000) \n",
    "           \n",
    "        else:\n",
    "            if item[1]/item[0] == 9:\n",
    "               new_num[index][1] = ROMAN[item[0]] + ROMAN[10*item[0]]\n",
    "            elif item[1]/item[0] ==5:\n",
    "                new_num[index][1] = ROMAN[5 * item[0]]\n",
    "            elif item[1]/item[0] ==4:\n",
    "                new_num[index][1] = ROMAN[1 * item[0]] + ROMAN[5 * item[0]]\n",
    "            elif 9 > item[1]/item[0] > 5:\n",
    "               new_num[index][1] = ROMAN[5 * item[0]] + ROMAN[1 * item[0]] * (item[1]//item[0] - 5)\n",
    "            else:\n",
    "               new_num[index][1] = ROMAN[1 * item[0]] * (item[1]//item[0])\n",
    "               \n",
    "    return ''.join((item[1] for item in new_num))"
   ]
  },
  {
   "cell_type": "markdown",
   "metadata": {},
   "source": [
    "# Alan's Recursive Solution:\n",
    "This is a solution that uses recursion. "
   ]
  },
  {
   "cell_type": "code",
   "execution_count": 38,
   "metadata": {
    "collapsed": true
   },
   "outputs": [],
   "source": [
    "def roman_numerals_a(number):\n",
    "\treturn tailRecursiveNumeral(number, '')\n",
    "def tailRecursiveNumeral(number,R):\n",
    "\t#roman_tailRecursiveNumeral=R\n",
    "\tif number < 1:\n",
    "\t\treturn R #if number is less than 1, return R\n",
    "\telif number >= 1000:\n",
    "\t\t# if number is greater than or equal to 1000, add M to R, and subtract 1000 from the number. \n",
    "\t\treturn tailRecursiveNumeral(number-1000,R+'M')\n",
    "\telif number+100>=1000:\n",
    "\t\t#if number plus 100 is greater than 1000, add C to R, and \n",
    "\t\t#e.g. 900s --> CM add C now, add M in the next\n",
    "\t\treturn tailRecursiveNumeral(number+100,R+'C')\t\n",
    "\telif number >= 500:\n",
    "\t\treturn tailRecursiveNumeral(number-500,R+'D')\n",
    "\telif number+100>=500:\n",
    "\t\treturn tailRecursiveNumeral(number+100,R+'C')\n",
    "\telif number >= 100:\n",
    "\t\treturn tailRecursiveNumeral(number-100,R+'C')\n",
    "\telif number+10>=100:\n",
    "\t\treturn tailRecursiveNumeral(number+10,R+'X')\n",
    "\telif number >= 50:\n",
    "\t\treturn tailRecursiveNumeral(number-50,R+'L')\n",
    "\telif number+10>=50:\n",
    "\t\treturn tailRecursiveNumeral(number+10,R+'X')\n",
    "\telif number >= 10:\n",
    "\t\treturn tailRecursiveNumeral(number-10,R+'X')\n",
    "\telif number+1>=10:\n",
    "\t\treturn tailRecursiveNumeral(number+1,R+'I')\n",
    "\telif number >= 5:\n",
    "\t\treturn tailRecursiveNumeral(number-5,R+'V')\n",
    "\telif number+1>=5:\n",
    "\t\treturn tailRecursiveNumeral(number+1,R+'I')\n",
    "\telif number > 0:\n",
    "\t\treturn tailRecursiveNumeral(number-1, R+'I')"
   ]
  },
  {
   "cell_type": "markdown",
   "metadata": {},
   "source": [
    "# Generator Solution\n",
    "This solution is similar to the recursive solution but makes use of a generator.\n"
   ]
  },
  {
   "cell_type": "code",
   "execution_count": 55,
   "metadata": {
    "collapsed": true
   },
   "outputs": [],
   "source": [
    "def roman_numerals_g(number):\n",
    "\treturn ''.join(roman_generator(number))\n",
    "\t\n",
    "\n",
    "def roman_generator(number):\n",
    "\t#roman_tailRecursiveNumeral=R\n",
    "\t# if number < 1:\n",
    "\t#\treturn R #if number is less than 1, return R\n",
    "\tif number >= 1000:\n",
    "\t\t# if number is greater than or equal to 1000, add M to R, and subtract 1000 from the number. \n",
    "\t\tyield \"M\"\n",
    "\t\tyield from roman_generator(number-1000)\n",
    "\telif number+100>=1000:\n",
    "\t\t#if number plus 100 is greater than 1000, add C to R, and \n",
    "\t\t#e.g. 900s --> CM add C now, add M in the next\n",
    "\t\tyield \"C\"\n",
    "\t\tyield from roman_generator(number+100)\n",
    "\telif number >= 500:\n",
    "\t    yield \"D\"\n",
    "\t    yield from roman_generator(number-500)\n",
    "\telif number+100>=500:\n",
    "\t    yield \"C\"\n",
    "\t    yield from roman_generator(number+100)\n",
    "\telif number >= 100:\n",
    "\t    yield \"C\"\n",
    "\t    yield from roman_generator(number-100)\n",
    "\telif number+10>=100:\n",
    "\t    yield \"X\"\n",
    "\t    yield from roman_generator(number+10)\n",
    "\telif number >= 50:\n",
    "\t    yield \"L\"\n",
    "\t    yield from roman_generator(number-50)\n",
    "\telif number+10>=50:\n",
    "\t    yield \"X\"\n",
    "\t    yield from roman_generator(number+10)\n",
    "\telif number >= 10:\n",
    "\t    yield \"X\"\n",
    "\t    yield from roman_generator(number-10)\n",
    "\telif number+1>=10:\n",
    "\t    yield \"I\"\n",
    "\t    yield from roman_generator(number+1)\n",
    "\telif number >= 5:\n",
    "\t    yield \"V\"\n",
    "\t    yield from roman_generator(number-5)\n",
    "\telif number+1>=5:\n",
    "\t    yield \"I\"\n",
    "\t    yield from roman_generator(number+1)\n",
    "\telif number > 0:\n",
    "\t    yield \"I\"\n",
    "\t    yield from roman_generator(number-1)\n",
    "\t    \n"
   ]
  },
  {
   "cell_type": "markdown",
   "metadata": {},
   "source": [
    "## Timeit Results\n",
    "Here are the time it results.\n",
    "\n",
    "### Bethany Solution, timeit results"
   ]
  },
  {
   "cell_type": "code",
   "execution_count": 69,
   "metadata": {
    "scrolled": true
   },
   "outputs": [
    {
     "name": "stdout",
     "output_type": "stream",
     "text": [
      "10000000 loops, best of 3: 31.6 ns per loop\n"
     ]
    }
   ],
   "source": [
    "% timeit roman_numerals"
   ]
  },
  {
   "cell_type": "markdown",
   "metadata": {},
   "source": [
    "### Arthur Solution, timeit results"
   ]
  },
  {
   "cell_type": "code",
   "execution_count": 67,
   "metadata": {},
   "outputs": [
    {
     "name": "stdout",
     "output_type": "stream",
     "text": [
      "10000000 loops, best of 3: 31.6 ns per loop\n"
     ]
    }
   ],
   "source": [
    "% timeit numeral"
   ]
  },
  {
   "cell_type": "markdown",
   "metadata": {},
   "source": [
    "### Alan's Recursive Solution"
   ]
  },
  {
   "cell_type": "code",
   "execution_count": 66,
   "metadata": {},
   "outputs": [
    {
     "name": "stdout",
     "output_type": "stream",
     "text": [
      "10000000 loops, best of 3: 31.5 ns per loop\n"
     ]
    }
   ],
   "source": [
    "% timeit roman_numerals_a"
   ]
  },
  {
   "cell_type": "markdown",
   "metadata": {},
   "source": [
    "### Generator Solution Based on Recursive Solution"
   ]
  },
  {
   "cell_type": "code",
   "execution_count": 65,
   "metadata": {},
   "outputs": [
    {
     "name": "stdout",
     "output_type": "stream",
     "text": [
      "10000000 loops, best of 3: 33.9 ns per loop\n"
     ]
    }
   ],
   "source": [
    "% timeit roman_numerals_g"
   ]
  },
  {
   "cell_type": "markdown",
   "metadata": {
    "collapsed": true
   },
   "source": [
    "### Numpy:"
   ]
  },
  {
   "cell_type": "code",
   "execution_count": 1,
   "metadata": {
    "collapsed": true
   },
   "outputs": [],
   "source": [
    "import numpy as np"
   ]
  },
  {
   "cell_type": "code",
   "execution_count": 15,
   "metadata": {},
   "outputs": [
    {
     "name": "stdout",
     "output_type": "stream",
     "text": [
      "[[0 1 2]\n",
      " [3 4 5]\n",
      " [6 7 8]]\n"
     ]
    }
   ],
   "source": [
    "tacboard = np.arange(9).reshape((3,3))\n",
    "print(tacboard)\n"
   ]
  },
  {
   "cell_type": "code",
   "execution_count": 30,
   "metadata": {},
   "outputs": [
    {
     "name": "stdout",
     "output_type": "stream",
     "text": [
      "[0 4 8]\n",
      "[6 4 2] \n",
      "\n",
      "[[0 3 6]\n",
      " [1 4 7]\n",
      " [2 5 8]] \n",
      "\n",
      "[0 4 8] \n",
      "\n"
     ]
    }
   ],
   "source": [
    "print(tacboard.diagonal())\n",
    "print(tacboard[::-1].diagonal(), '\\n')\n",
    "\n",
    "print(tacboard.T, '\\n')\n",
    "print(tacboard.T.T.T.T.T.T.diagonal(), '\\n')"
   ]
  },
  {
   "cell_type": "code",
   "execution_count": 6,
   "metadata": {},
   "outputs": [
    {
     "ename": "TypeError",
     "evalue": "'builtin_function_or_method' object is not subscriptable",
     "output_type": "error",
     "traceback": [
      "\u001b[0;31m---------------------------------------------------------------------------\u001b[0m",
      "\u001b[0;31mTypeError\u001b[0m                                 Traceback (most recent call last)",
      "\u001b[0;32m<ipython-input-6-1a2543f4e861>\u001b[0m in \u001b[0;36m<module>\u001b[0;34m()\u001b[0m\n\u001b[0;32m----> 1\u001b[0;31m \u001b[0mtacboard\u001b[0m\u001b[0;34m.\u001b[0m\u001b[0mdiagonal\u001b[0m\u001b[0;34m[\u001b[0m\u001b[0;36m0\u001b[0m\u001b[0;34m]\u001b[0m\u001b[0;34m\u001b[0m\u001b[0m\n\u001b[0m",
      "\u001b[0;31mTypeError\u001b[0m: 'builtin_function_or_method' object is not subscriptable"
     ]
    }
   ],
   "source": [
    "tacboard.diagonal[0]"
   ]
  },
  {
   "cell_type": "code",
   "execution_count": null,
   "metadata": {
    "collapsed": true
   },
   "outputs": [],
   "source": []
  }
 ],
 "metadata": {
  "kernelspec": {
   "display_name": "Python 3",
   "language": "python",
   "name": "python3"
  },
  "language_info": {
   "codemirror_mode": {
    "name": "ipython",
    "version": 3
   },
   "file_extension": ".py",
   "mimetype": "text/x-python",
   "name": "python",
   "nbconvert_exporter": "python",
   "pygments_lexer": "ipython3",
   "version": "3.6.0"
  }
 },
 "nbformat": 4,
 "nbformat_minor": 2
}

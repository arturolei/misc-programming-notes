{
 "cells": [
  {
   "cell_type": "markdown",
   "metadata": {},
   "source": [
    "# CSV and PDF Manipulation with Python:\n",
    "\n",
    "## Review Exercises"
   ]
  },
  {
   "cell_type": "markdown",
   "metadata": {},
   "source": [
    "1) Write script, read data from pastimes.csv, skip header row (next()). "
   ]
  },
  {
   "cell_type": "code",
   "execution_count": 1,
   "metadata": {},
   "outputs": [
    {
     "ename": "FileNotFoundError",
     "evalue": "[Errno 2] No such file or directory: 'C:/Users/Arturo/Desktop/book1-exercises/chp09/practice_files/pastimes.csv'",
     "output_type": "error",
     "traceback": [
      "\u001b[0;31m---------------------------------------------------------------------------\u001b[0m",
      "\u001b[0;31mFileNotFoundError\u001b[0m                         Traceback (most recent call last)",
      "\u001b[0;32m<ipython-input-1-c6b6efe46217>\u001b[0m in \u001b[0;36m<module>\u001b[0;34m()\u001b[0m\n\u001b[1;32m      5\u001b[0m \u001b[0;31m#NB: '\\' reads this as escape character. If you use '/', it should be okay.\u001b[0m\u001b[0;34m\u001b[0m\u001b[0;34m\u001b[0m\u001b[0m\n\u001b[1;32m      6\u001b[0m \u001b[0;34m\u001b[0m\u001b[0m\n\u001b[0;32m----> 7\u001b[0;31m \u001b[0;32mwith\u001b[0m \u001b[0mopen\u001b[0m\u001b[0;34m(\u001b[0m\u001b[0mos\u001b[0m\u001b[0;34m.\u001b[0m\u001b[0mpath\u001b[0m\u001b[0;34m.\u001b[0m\u001b[0mjoin\u001b[0m\u001b[0;34m(\u001b[0m\u001b[0mmy_path\u001b[0m\u001b[0;34m,\u001b[0m\u001b[0;34m\"pastimes.csv\"\u001b[0m\u001b[0;34m)\u001b[0m\u001b[0;34m,\u001b[0m\u001b[0;34m\"r\"\u001b[0m\u001b[0;34m)\u001b[0m \u001b[0;32mas\u001b[0m \u001b[0mmy_file\u001b[0m\u001b[0;34m:\u001b[0m\u001b[0;34m\u001b[0m\u001b[0m\n\u001b[0m\u001b[1;32m      8\u001b[0m     \u001b[0mcsv_file_reader\u001b[0m \u001b[0;34m=\u001b[0m \u001b[0mcsv\u001b[0m\u001b[0;34m.\u001b[0m\u001b[0mreader\u001b[0m\u001b[0;34m(\u001b[0m\u001b[0mmy_file\u001b[0m\u001b[0;34m)\u001b[0m\u001b[0;34m\u001b[0m\u001b[0m\n\u001b[1;32m      9\u001b[0m     \u001b[0mnext\u001b[0m\u001b[0;34m(\u001b[0m\u001b[0mcsv_file_reader\u001b[0m\u001b[0;34m)\u001b[0m \u001b[0;31m#skips header row\u001b[0m\u001b[0;34m\u001b[0m\u001b[0m\n",
      "\u001b[0;31mFileNotFoundError\u001b[0m: [Errno 2] No such file or directory: 'C:/Users/Arturo/Desktop/book1-exercises/chp09/practice_files/pastimes.csv'"
     ]
    }
   ],
   "source": [
    "import os\n",
    "import csv\n",
    "\n",
    "my_path= 'C:/Users/Arturo/Desktop/book1-exercises/chp09/practice_files/' \n",
    "#NB: '\\' reads this as escape character. If you use '/', it should be okay.  \n",
    "\n",
    "with open(os.path.join(my_path,\"pastimes.csv\"),\"r\") as my_file:\n",
    "    csv_file_reader = csv.reader(my_file)\n",
    "    next(csv_file_reader) #skips header row\n",
    "    for row in csv_file_reader:\n",
    "        print(row, type(row))\n"
   ]
  },
  {
   "cell_type": "markdown",
   "metadata": {},
   "source": [
    "2) Display each row as list of strings:"
   ]
  },
  {
   "cell_type": "code",
   "execution_count": 9,
   "metadata": {},
   "outputs": [
    {
     "name": "stdout",
     "output_type": "stream",
     "text": [
      "name: Fezzik, pastime: Fighting\n",
      "name: Westley, pastime: Winning\n",
      "name: Inigo Montoya, pastime: Sword fighting\n",
      "name: Buttercup, pastime: Complaining\n"
     ]
    }
   ],
   "source": [
    "with open(os.path.join(my_path,\"pastimes.csv\"),\"r\") as my_file:\n",
    "    csv_file_reader = csv.reader(my_file)\n",
    "    next(csv_file_reader)\n",
    "    for name,pastime in csv_file_reader:\n",
    "        print('name: {}, pastime: {}'.format(name,pastime))\n"
   ]
  },
  {
   "cell_type": "markdown",
   "metadata": {},
   "source": [
    "3) Favorite Pastime, all lowercase, if second part, all in lowercase is \"fighting\"\n",
    "\n"
   ]
  },
  {
   "cell_type": "code",
   "execution_count": 12,
   "metadata": {},
   "outputs": [
    {
     "name": "stdout",
     "output_type": "stream",
     "text": [
      "Fezzik likes figthing\n",
      "Inigo Montoya likes figthing\n"
     ]
    }
   ],
   "source": [
    "with open(os.path.join(my_path,\"pastimes.csv\"),\"r\") as my_file:\n",
    "    csv_file_reader = csv.reader(my_file)\n",
    "    next(csv_file_reader)\n",
    "    for name,pastime in csv_file_reader:\n",
    "        if pastime.lower().find('fighting') != -1:\n",
    "            print(name, 'likes figthing')"
   ]
  },
  {
   "cell_type": "markdown",
   "metadata": {},
   "source": [
    "4) Add new column, append \"Combat\" or \"Other\" if not."
   ]
  },
  {
   "cell_type": "code",
   "execution_count": 13,
   "metadata": {},
   "outputs": [
    {
     "name": "stdout",
     "output_type": "stream",
     "text": [
      "[['Fezzik', 'Fighting', 'Combat'], ['Westley', 'Winning', 'Other'], ['Inigo Montoya', 'Sword fighting', 'Combat'], ['Buttercup', 'Complaining', 'Other']]\n"
     ]
    }
   ],
   "source": [
    "data_pastime=[]\n",
    "\n",
    "with open(os.path.join(my_path,\"pastimes.csv\"),\"r\") as my_file:\n",
    "    csv_file_reader = csv.reader(my_file)\n",
    "    next(csv_file_reader) #skips header row\n",
    "    for row in csv_file_reader:\n",
    "        if row[1].lower().find('fighting') != -1:\n",
    "            row.append('Combat')\n",
    "        else:\n",
    "            row.append('Other')\n",
    "        data_pastime.append(row)\n",
    "\n",
    "print(data_pastime)"
   ]
  },
  {
   "cell_type": "markdown",
   "metadata": {},
   "source": [
    "5) Make new csv with updated data, new header, new csv"
   ]
  },
  {
   "cell_type": "code",
   "execution_count": 15,
   "metadata": {
    "collapsed": true
   },
   "outputs": [],
   "source": [
    "with open(os.path.join(my_path,\"categorized_pastimes.csv\"),\"w\",  newline='') as my_file:\n",
    "    csv_file_writer = csv.writer(my_file)\n",
    "    csv_file_writer.writerow(['Name','Favorite Pastime','Type of Pastime'])\n",
    "    csv_file_writer.writerows(data_pastime)"
   ]
  },
  {
   "cell_type": "markdown",
   "metadata": {},
   "source": [
    "## PDF Manipulation\n",
    "\n",
    "### Revew Exercises\n",
    "\n",
    "1) Get Data about a PDF containing the text of \"The Whistling Gypsy\""
   ]
  },
  {
   "cell_type": "code",
   "execution_count": 20,
   "metadata": {},
   "outputs": [
    {
     "name": "stdout",
     "output_type": "stream",
     "text": [
      "Author:  Leo Maguire\n",
      "Title:  The Whistling Gypsy\n",
      "Number of Pages:  2\n"
     ]
    }
   ],
   "source": [
    "from PyPDF2 import PdfFileReader,PdfFileWriter\n",
    "\n",
    "pdf_path=\"C:/Users/Arturo/Desktop/book1-exercises/chp11/practice_files/\"\n",
    "\n",
    "pdf_file_name= os.path.join(pdf_path,\"The Whistling Gypsy.pdf\")\n",
    "pdf_file_read= PdfFileReader(open(pdf_file_name, 'rb'))\n",
    "\n",
    "print('Author: ', pdf_file_read.getDocumentInfo().author)\n",
    "print('Title: ', pdf_file_read.getDocumentInfo().title)\n",
    "print('Number of Pages: ', pdf_file_read.getNumPages())"
   ]
  },
  {
   "cell_type": "markdown",
   "metadata": {},
   "source": [
    "2) Extract contents of Whistling Gypsy into .txt file"
   ]
  },
  {
   "cell_type": "code",
   "execution_count": 21,
   "metadata": {},
   "outputs": [
    {
     "ename": "UnicodeEncodeError",
     "evalue": "'charmap' codec can't encode character '\\ufb01' in position 788: character maps to <undefined>",
     "output_type": "error",
     "traceback": [
      "\u001b[0;31m---------------------------------------------------------------------------\u001b[0m",
      "\u001b[0;31mUnicodeEncodeError\u001b[0m                        Traceback (most recent call last)",
      "\u001b[0;32m<ipython-input-21-e3292a708d27>\u001b[0m in \u001b[0;36m<module>\u001b[0;34m()\u001b[0m\n\u001b[1;32m      6\u001b[0m \u001b[1;32mfor\u001b[0m \u001b[0mpage\u001b[0m \u001b[1;32min\u001b[0m \u001b[0mrange\u001b[0m\u001b[1;33m(\u001b[0m\u001b[1;36m0\u001b[0m\u001b[1;33m,\u001b[0m \u001b[0mtotal_pages\u001b[0m\u001b[1;33m)\u001b[0m\u001b[1;33m:\u001b[0m\u001b[1;33m\u001b[0m\u001b[0m\n\u001b[1;32m      7\u001b[0m     \u001b[0mtext\u001b[0m \u001b[1;33m=\u001b[0m \u001b[0mpdf_file_read\u001b[0m\u001b[1;33m.\u001b[0m\u001b[0mgetPage\u001b[0m\u001b[1;33m(\u001b[0m\u001b[0mpage\u001b[0m\u001b[1;33m)\u001b[0m\u001b[1;33m.\u001b[0m\u001b[0mextractText\u001b[0m\u001b[1;33m(\u001b[0m\u001b[1;33m)\u001b[0m\u001b[1;33m\u001b[0m\u001b[0m\n\u001b[0;32m----> 8\u001b[0;31m     \u001b[0moutput_file\u001b[0m\u001b[1;33m.\u001b[0m\u001b[0mwrite\u001b[0m\u001b[1;33m(\u001b[0m\u001b[0mtext\u001b[0m\u001b[1;33m)\u001b[0m\u001b[1;33m\u001b[0m\u001b[0m\n\u001b[0m\u001b[1;32m      9\u001b[0m \u001b[1;33m\u001b[0m\u001b[0m\n\u001b[1;32m     10\u001b[0m \u001b[0moutput_file\u001b[0m\u001b[1;33m.\u001b[0m\u001b[0mclose\u001b[0m\u001b[1;33m(\u001b[0m\u001b[1;33m)\u001b[0m\u001b[1;33m\u001b[0m\u001b[0m\n",
      "\u001b[0;32mc:\\ProgramData\\Anaconda3\\lib\\encodings\\cp1252.py\u001b[0m in \u001b[0;36mencode\u001b[0;34m(self, input, final)\u001b[0m\n\u001b[1;32m     17\u001b[0m \u001b[1;32mclass\u001b[0m \u001b[0mIncrementalEncoder\u001b[0m\u001b[1;33m(\u001b[0m\u001b[0mcodecs\u001b[0m\u001b[1;33m.\u001b[0m\u001b[0mIncrementalEncoder\u001b[0m\u001b[1;33m)\u001b[0m\u001b[1;33m:\u001b[0m\u001b[1;33m\u001b[0m\u001b[0m\n\u001b[1;32m     18\u001b[0m     \u001b[1;32mdef\u001b[0m \u001b[0mencode\u001b[0m\u001b[1;33m(\u001b[0m\u001b[0mself\u001b[0m\u001b[1;33m,\u001b[0m \u001b[0minput\u001b[0m\u001b[1;33m,\u001b[0m \u001b[0mfinal\u001b[0m\u001b[1;33m=\u001b[0m\u001b[1;32mFalse\u001b[0m\u001b[1;33m)\u001b[0m\u001b[1;33m:\u001b[0m\u001b[1;33m\u001b[0m\u001b[0m\n\u001b[0;32m---> 19\u001b[0;31m         \u001b[1;32mreturn\u001b[0m \u001b[0mcodecs\u001b[0m\u001b[1;33m.\u001b[0m\u001b[0mcharmap_encode\u001b[0m\u001b[1;33m(\u001b[0m\u001b[0minput\u001b[0m\u001b[1;33m,\u001b[0m\u001b[0mself\u001b[0m\u001b[1;33m.\u001b[0m\u001b[0merrors\u001b[0m\u001b[1;33m,\u001b[0m\u001b[0mencoding_table\u001b[0m\u001b[1;33m)\u001b[0m\u001b[1;33m[\u001b[0m\u001b[1;36m0\u001b[0m\u001b[1;33m]\u001b[0m\u001b[1;33m\u001b[0m\u001b[0m\n\u001b[0m\u001b[1;32m     20\u001b[0m \u001b[1;33m\u001b[0m\u001b[0m\n\u001b[1;32m     21\u001b[0m \u001b[1;32mclass\u001b[0m \u001b[0mIncrementalDecoder\u001b[0m\u001b[1;33m(\u001b[0m\u001b[0mcodecs\u001b[0m\u001b[1;33m.\u001b[0m\u001b[0mIncrementalDecoder\u001b[0m\u001b[1;33m)\u001b[0m\u001b[1;33m:\u001b[0m\u001b[1;33m\u001b[0m\u001b[0m\n",
      "\u001b[0;31mUnicodeEncodeError\u001b[0m: 'charmap' codec can't encode character '\\ufb01' in position 788: character maps to <undefined>"
     ]
    }
   ],
   "source": [
    "pdf_output_file_name = os.path.join(pdf_path,\"The Whistling Gypsy.txt\")\n",
    "output_file = open(pdf_output_file_name, \"w\")\n",
    "\n",
    "total_pages = pdf_file_read.getNumPages()\n",
    "\n",
    "for page in range(0, total_pages):\n",
    "    text = pdf_file_read.getPage(page).extractText()\n",
    "    output_file.write(text)\n",
    "    \n",
    "output_file.close()"
   ]
  },
  {
   "cell_type": "markdown",
   "metadata": {
    "collapsed": true
   },
   "source": [
    "## Create PDF"
   ]
  },
  {
   "cell_type": "code",
   "execution_count": 3,
   "metadata": {
    "collapsed": true
   },
   "outputs": [],
   "source": [
    "from reportlab.pdfgen import canvas\n",
    "c = canvas.Canvas(\"hello.pdf\")\n",
    "c.drawString(250, 500, \"Hello World\")\n",
    "c.save()"
   ]
  },
  {
   "cell_type": "markdown",
   "metadata": {},
   "source": [
    "## SQLite in Python"
   ]
  },
  {
   "cell_type": "code",
   "execution_count": 20,
   "metadata": {},
   "outputs": [
    {
     "name": "stdout",
     "output_type": "stream",
     "text": [
      "('Jean-Baptiste Zorg', 122)\n",
      "('Korben Dallas', 100)\n"
     ]
    }
   ],
   "source": [
    "import sqlite3\n",
    "\n",
    "entity_values=(('Jean-Baptiste Zorg', 'Human', 122),\n",
    "('Korben Dallas', 'Meat Popsicle', 100),\n",
    "(\"Ak'not\", 'Mangalore', -5))\n",
    "\n",
    "with sqlite3.connect(':memory:') as connection:\n",
    "    curs = connection.cursor()\n",
    "    curs.execute(\"CREATE TABLE Roster(Name TEXT, Species TEXT, IQ INT)\")\n",
    "    curs.executemany(\"INSERT INTO Roster VALUES(?, ?, ?)\", entity_values)\n",
    "    curs.execute(\"UPDATE Roster SET Species=? WHERE Name=?\",\n",
    "('Human', 'Korben Dallas'))\n",
    "    curs.execute(\"SELECT Name, IQ FROM Roster Where Species = 'Human'\")\n",
    "    #curs.execute(\"SELECT * FROM Roster\")\n",
    "    for row in curs.fetchall():\n",
    "        print(row)"
   ]
  },
  {
   "cell_type": "code",
   "execution_count": null,
   "metadata": {
    "collapsed": true
   },
   "outputs": [],
   "source": []
  }
 ],
 "metadata": {
  "kernelspec": {
   "display_name": "Python 3",
   "language": "python",
   "name": "python3"
  },
  "language_info": {
   "codemirror_mode": {
    "name": "ipython",
    "version": 3
   },
   "file_extension": ".py",
   "mimetype": "text/x-python",
   "name": "python",
   "nbconvert_exporter": "python",
   "pygments_lexer": "ipython3",
   "version": "3.6.0"
  }
 },
 "nbformat": 4,
 "nbformat_minor": 2
}

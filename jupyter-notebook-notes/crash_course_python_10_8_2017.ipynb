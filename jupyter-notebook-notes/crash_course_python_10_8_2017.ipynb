{
 "cells": [
  {
   "cell_type": "markdown",
   "metadata": {},
   "source": [
    "# PyBay Pre-Conference Workshop: Crash Course in Computer Science\n",
    "\n",
    "NB: We will not be covering everything or else we will be here forever. \n",
    "\n",
    "- Computer architecture\n",
    "- Binary representation (what does it really look like under the hood)\n",
    "- Very interactive, very exercise-based\n",
    "    - Go to [here](https://github.com/Bradfield/pybay2017) for the exercises. \n",
    "\n",
    "## best way to learn computer science is to practice ##\n",
    "- Computer science is like learning French or playing tennis. Until you do the exercise, you \n",
    "\n",
    "## What is a computer capable of storing? ##\n",
    "A computer can store \"bits\" (on or off). From sequences of bits and an interpretation, we somehow model data. \n",
    "NB: A byte can be considered a location in memory. 8 bits = 1 byte (da controllare)\n",
    "- Why 8 bits? 7 bits is adequate for ASCII. \n",
    "\n",
    "Octet = 8 bits\n",
    "\n",
    "Byte = smallest unit for addressable RAM\n",
    "\n",
    "1 byte can store 2^8\n",
    "\n",
    "How many colors? \n",
    "rgb(256, 256, 256)--> three bytes of storage, 256\n",
    "\n",
    "## On 32-bit machine, how much RAM can you have? ##\n",
    "What does it meant to have a 32-bit machine? Each register (small piece of RAM) has 32-bit long address (number of bytes, 2^32, 4 billion bites). DA CONTROLLARE\n",
    "\n",
    "Why did we move to 64 bits? More RAM\n",
    "\n",
    "Sidenote: Look at IPv6 and how long IP addresses are (IP addresses were originally 4 bytes, 2^32 = (2^8)^4)\n",
    "\n",
    "\n",
    "## Bitmap Conversion\n",
    "Task: Convert Bitmap Image to Greyscale\n",
    "\n",
    "NB: Cloned Github from \n",
    "\n",
    "Things to know: \n",
    "- Where does the header end and the data begins?\n",
    "- Greyscale = average of the three rgb values then take those bytes and re-write them\n",
    "- Review offset in hex and bitmap\n",
    "\n",
    "Hexdump is visualization of data. The left is the row number/location in data, the right is ASCII\n",
    "\n",
    "## Data Structures\n",
    "\n",
    "### Queue vs Stack: Dealing with Sequence of Data\n",
    "**Queue**\n",
    "- First In, First Out (like a line in real-life)\n",
    "**Stack**\n",
    "- Last In, First Out\n",
    "\n",
    "How do we model a queue in Python? \n",
    "- A list with insert(0) and push() OR append() and pop(0)\n",
    "\n",
    "**Why can't we just put integers in?**\n",
    "Something about a pointer, a list comes pre-fabricated with a set number of pointers\n",
    "Items beyond that set number will force a new list to be created\n",
    "\n",
    "Does adding item to a list vary depending on length on list? Constant versus linear-time operation? \n",
    "- It's really linear (adding requires you know an index and going to the last pointer)\n",
    "- Amortized time: we assume constant time operation when it really isn't because most of time we're okay.\n",
    "\n",
    "*Key Takeaway: \"The most important thing you can do as a Python programmer is learn C. If you don't want to learn C, speak to me after,and I'll convince you to learn C.\"*\n",
    "\n",
    "What about popping or removing a list? Constant or linear?\n",
    "- Constant time again\n",
    "- If you pop from beginning and add at the end at same time, you have to perform a shift (in fact), the FIFO operation is a shift operation. \n",
    "\n",
    "If a list gets too big, we run into a problem:\n",
    "- **Stack** vs **Heap** (DA CONTROLLARE)\n",
    "- If we have a python program, what does OS do to run it? \n",
    "    1. Allocate RAM to run it? (CPython) \n",
    "    2. Allocate RAM for the stuff in the code (variables and stuff)\n",
    "    3. Allocate some amount of RAM for stuff running\n",
    "            a) STACK = notionally structure\n",
    "                - function calls\n",
    "                - local variables\n",
    "            b) HEAP = unstructure space\n",
    "- Python and STACK/HEAP\n",
    "    -No stack overflow in Python? It goes into the heap-->If heap used up, it creates a problem\n",
    "- So if a list is too big, you run into a big problem. \n",
    "\n",
    "Other Considerations\n",
    "- List and nodes? Lists run out of RAM at some point?\n",
    "- Rebuffer? Finite amount of space can be used as queue (when you reach end of top value, begin again at a time and read next, problem: write over old data, but block reader from overtaking writer, and writer from overtaking reader)\n",
    "\n",
    "\n",
    "Fun Fact: NumPy is written in C. "
   ]
  },
  {
   "cell_type": "code",
   "execution_count": 4,
   "metadata": {
    "collapsed": true
   },
   "outputs": [],
   "source": [
    "mark = [1, 23, 2]"
   ]
  },
  {
   "cell_type": "code",
   "execution_count": 5,
   "metadata": {},
   "outputs": [
    {
     "data": {
      "text/plain": [
       "1"
      ]
     },
     "execution_count": 5,
     "metadata": {},
     "output_type": "execute_result"
    }
   ],
   "source": [
    "mark[0]"
   ]
  },
  {
   "cell_type": "code",
   "execution_count": 6,
   "metadata": {},
   "outputs": [],
   "source": [
    "mark[1]=4"
   ]
  },
  {
   "cell_type": "code",
   "execution_count": 7,
   "metadata": {},
   "outputs": [
    {
     "data": {
      "text/plain": [
       "[1, 4, 2]"
      ]
     },
     "execution_count": 7,
     "metadata": {},
     "output_type": "execute_result"
    }
   ],
   "source": [
    "mark"
   ]
  },
  {
   "cell_type": "code",
   "execution_count": null,
   "metadata": {
    "collapsed": true
   },
   "outputs": [],
   "source": []
  }
 ],
 "metadata": {
  "kernelspec": {
   "display_name": "Python 3",
   "language": "python",
   "name": "python3"
  },
  "language_info": {
   "codemirror_mode": {
    "name": "ipython",
    "version": 3
   },
   "file_extension": ".py",
   "mimetype": "text/x-python",
   "name": "python",
   "nbconvert_exporter": "python",
   "pygments_lexer": "ipython3",
   "version": "3.6.0"
  }
 },
 "nbformat": 4,
 "nbformat_minor": 2
}

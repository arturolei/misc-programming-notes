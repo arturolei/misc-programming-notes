{
 "cells": [
  {
   "cell_type": "code",
   "execution_count": 3,
   "metadata": {
    "collapsed": true
   },
   "outputs": [],
   "source": [
    "def calculate_hw_grade(raw_score):\n",
    "    if raw_score <= 70:\n",
    "        return (raw_score*0.01)*50\n",
    "    else:\n",
    "        return (raw_score+8.65)*0.01*50"
   ]
  },
  {
   "cell_type": "code",
   "execution_count": 15,
   "metadata": {
    "collapsed": false
   },
   "outputs": [
    {
     "data": {
      "text/plain": [
       "49.525000000000006"
      ]
     },
     "execution_count": 15,
     "metadata": {},
     "output_type": "execute_result"
    }
   ],
   "source": [
    "calculate_hw_grade(90.4)"
   ]
  },
  {
   "cell_type": "markdown",
   "metadata": {},
   "source": [
    "# Space Age, Exercism Exercise\n",
    "\n",
    "I had to get the pen and paper out==> false"
   ]
  },
  {
   "cell_type": "code",
   "execution_count": 1,
   "metadata": {
    "collapsed": false
   },
   "outputs": [],
   "source": [
    "class SpaceAge(object):\n",
    "    def __init__(self, age_seconds):\n",
    "        self.seconds = age_seconds\n",
    "        self.age_earth_years = self.seconds/31557600\n",
    "    def on_mercury(self):\n",
    "    \treturn round(self.age_earth_years * (1/0.2408467),2)\n",
    "    def on_earth(self):\n",
    "        return round(self.age_earth_years,2)\n",
    "    def on_mars(self):\n",
    "        return round(self.age_earth_years * (1/1.8808158),2)\n",
    "    def on_venus(self):\n",
    "        return round(self.age_earth_years * (1/0.61519726),2)\n",
    "    def on_jupiter(self):\n",
    "        return round(self.age_earth_years *(1/11.862615),2)\n",
    "    def on_saturn(self):\n",
    "        return round(self.age_earth_years * (1/29.447498),2)\n",
    "    def on_uranus(self):\n",
    "        return round(self.age_earth_years * (1/84.016846),2)\n",
    "    def on_neptune(self):\n",
    "        return round(self.age_earth_years * (1/164.79132),2)\n",
    "\n",
    "        \n"
   ]
  },
  {
   "cell_type": "code",
   "execution_count": 2,
   "metadata": {
    "collapsed": true
   },
   "outputs": [],
   "source": [
    "age = SpaceAge(8210123456)"
   ]
  },
  {
   "cell_type": "code",
   "execution_count": 3,
   "metadata": {
    "collapsed": false
   },
   "outputs": [
    {
     "name": "stdout",
     "output_type": "stream",
     "text": [
      "260.16\n"
     ]
    }
   ],
   "source": [
    "print(age.on_earth())"
   ]
  },
  {
   "cell_type": "markdown",
   "metadata": {},
   "source": [
    "## Bethany Solution for Space Age\n",
    "Note how this creates a method on the fly."
   ]
  },
  {
   "cell_type": "code",
   "execution_count": 12,
   "metadata": {
    "collapsed": false
   },
   "outputs": [
    {
     "name": "stdout",
     "output_type": "stream",
     "text": [
      "260.16\n"
     ]
    }
   ],
   "source": [
    "from functools import partial\n",
    "\n",
    "\n",
    "#Pulled out planets as a constant\n",
    "PLANETS = {'earth' : 1,\n",
    "           'mercury' : 0.2408467,\n",
    "           'venus' : 0.61519726,\n",
    "           'mars' : 1.8808158,\n",
    "           'jupiter' : 11.862615,\n",
    "           'saturn' : 29.447498,\n",
    "           'uranus' : 84.016846,\n",
    "           'neptune' : 164.79132}\n",
    "\n",
    "\n",
    "class SpaceAge_b():\n",
    "    def __init__(self, age_seconds):\n",
    "        self.seconds = age_seconds\n",
    "        self._earthyear = 31557600\n",
    "        \n",
    "        for index, planet in enumerate(PLANETS):\n",
    "                method_name = 'on_{}'.format(planet)\n",
    "                \n",
    "                #dynamic creation and insertion of methods into the class __dict__\n",
    "                self.__dict__[method_name] = partial(self.on_planet, PLANETS[planet])\n",
    " \n",
    "    def on_planet(self, planet_ratio):\n",
    "        return round((self.seconds / self._earthyear) / planet_ratio, 2)\n",
    "\n",
    "agey = SpaceAge_b(8210123456)\n",
    "\n",
    "print(agey.on_earth())"
   ]
  },
  {
   "cell_type": "markdown",
   "metadata": {},
   "source": [
    "# Grains, Exercism Exercise: Or Proof you Can Do the Maths\n",
    "\n",
    "There's got to be a better way to do the summation things"
   ]
  },
  {
   "cell_type": "code",
   "execution_count": 43,
   "metadata": {
    "collapsed": false
   },
   "outputs": [],
   "source": [
    "def on_square(square_loc):\n",
    "    if (square_loc > 64) or square_loc <0 or square_loc==0:\n",
    "        raise ValueError('Oops')\n",
    "    else:\n",
    "        return (2**(square_loc-1))\n",
    "    \n",
    "def total_after(square_loc):\n",
    "    if (square_loc > 64) or square_loc <0 or square_loc==0:\n",
    "        raise ValueError('Oops')\n",
    "    else:\n",
    "        return sum(2**power for power in range(square_loc))\n",
    "    \n",
    "    \n",
    "def on_square_2(n):\n",
    "    if not (0 < n < 65):\n",
    "        raise ValueError()\n",
    "    return 1 << (n-1)\n",
    "\n",
    "\n",
    "def total_after_2(n):\n",
    "    if not (0 < n < 65):\n",
    "        raise ValueError()\n",
    "    return (1 << n) - 1\n"
   ]
  },
  {
   "cell_type": "code",
   "execution_count": 44,
   "metadata": {
    "collapsed": false
   },
   "outputs": [
    {
     "name": "stdout",
     "output_type": "stream",
     "text": [
      "8 8\n",
      "totes 15\n",
      "10000000 loops, best of 3: 30.5 ns per loop\n",
      "10000000 loops, best of 3: 33.9 ns per loop\n"
     ]
    }
   ],
   "source": [
    "print(on_square(4), 2**3)\n",
    "print('totes',total_after(4))\n",
    "\n",
    "% timeit total_after\n",
    "% timeit total_after_2"
   ]
  },
  {
   "cell_type": "code",
   "execution_count": null,
   "metadata": {
    "collapsed": true
   },
   "outputs": [],
   "source": []
  },
  {
   "cell_type": "code",
   "execution_count": null,
   "metadata": {
    "collapsed": true
   },
   "outputs": [],
   "source": []
  }
 ],
 "metadata": {
  "kernelspec": {
   "display_name": "Python 3",
   "language": "python",
   "name": "python3"
  },
  "language_info": {
   "codemirror_mode": {
    "name": "ipython",
    "version": 3
   },
   "file_extension": ".py",
   "mimetype": "text/x-python",
   "name": "python",
   "nbconvert_exporter": "python",
   "pygments_lexer": "ipython3",
   "version": "3.6.0"
  }
 },
 "nbformat": 4,
 "nbformat_minor": 2
}

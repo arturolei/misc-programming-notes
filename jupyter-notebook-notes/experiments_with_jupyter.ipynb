{
 "cells": [
  {
   "cell_type": "code",
   "execution_count": 3,
   "metadata": {
    "collapsed": true
   },
   "outputs": [],
   "source": [
    "def calculate_hw_grade(raw_score):\n",
    "    if raw_score <= 70:\n",
    "        return (raw_score*0.01)*50\n",
    "    else:\n",
    "        return (raw_score+8.65)*0.01*50"
   ]
  },
  {
   "cell_type": "code",
   "execution_count": 15,
   "metadata": {
    "collapsed": false
   },
   "outputs": [
    {
     "data": {
      "text/plain": [
       "49.525000000000006"
      ]
     },
     "execution_count": 15,
     "metadata": {},
     "output_type": "execute_result"
    }
   ],
   "source": [
    "calculate_hw_grade(90.4)"
   ]
  },
  {
   "cell_type": "markdown",
   "metadata": {},
   "source": [
    "# Space Age, Exercism Exercise\n",
    "\n",
    "I had to get the pen and paper out==> false"
   ]
  },
  {
   "cell_type": "code",
   "execution_count": 1,
   "metadata": {
    "collapsed": true
   },
   "outputs": [],
   "source": [
    "class SpaceAge(object):\n",
    "    def __init__(self, age_seconds):\n",
    "        self.seconds = age_seconds\n",
    "        self.age_earth_years = self.seconds/31557600\n",
    "    def on_mercury(self):\n",
    "    \treturn round(self.age_earth_years * (1/0.2408467),2)\n",
    "    def on_earth(self):\n",
    "        return round(self.age_earth_years,2)\n",
    "    def on_mars(self):\n",
    "        return round(self.age_earth_years * (1/1.8808158),2)\n",
    "    def on_venus(self):\n",
    "        return round(self.age_earth_years * (1/0.61519726),2)\n",
    "    def on_jupiter(self):\n",
    "        return round(self.age_earth_years *(1/11.862615),2)\n",
    "    def on_saturn(self):\n",
    "        return round(self.age_earth_years * (1/29.447498),2)\n",
    "    def on_uranus(self):\n",
    "        return round(self.age_earth_years * (1/84.016846),2)\n",
    "    def on_neptune(self):\n",
    "        return round(self.age_earth_years * (1/164.79132),2)\n",
    "\n",
    "        \n"
   ]
  },
  {
   "cell_type": "code",
   "execution_count": 2,
   "metadata": {
    "collapsed": true
   },
   "outputs": [],
   "source": [
    "age = SpaceAge(8210123456)"
   ]
  },
  {
   "cell_type": "code",
   "execution_count": 3,
   "metadata": {
    "collapsed": false
   },
   "outputs": [
    {
     "name": "stdout",
     "output_type": "stream",
     "text": [
      "260.16\n"
     ]
    }
   ],
   "source": [
    "print(age.on_earth())"
   ]
  },
  {
   "cell_type": "markdown",
   "metadata": {},
   "source": [
    "## Bethany Solution for Space Age\n",
    "Note how this creates a method on the fly."
   ]
  },
  {
   "cell_type": "code",
   "execution_count": 12,
   "metadata": {
    "collapsed": false
   },
   "outputs": [
    {
     "name": "stdout",
     "output_type": "stream",
     "text": [
      "260.16\n"
     ]
    }
   ],
   "source": [
    "from functools import partial\n",
    "\n",
    "\n",
    "#Pulled out planets as a constant\n",
    "PLANETS = {'earth' : 1,\n",
    "           'mercury' : 0.2408467,\n",
    "           'venus' : 0.61519726,\n",
    "           'mars' : 1.8808158,\n",
    "           'jupiter' : 11.862615,\n",
    "           'saturn' : 29.447498,\n",
    "           'uranus' : 84.016846,\n",
    "           'neptune' : 164.79132}\n",
    "\n",
    "\n",
    "class SpaceAge_b():\n",
    "    def __init__(self, age_seconds):\n",
    "        self.seconds = age_seconds\n",
    "        self._earthyear = 31557600\n",
    "        \n",
    "        for index, planet in enumerate(PLANETS):\n",
    "                method_name = 'on_{}'.format(planet)\n",
    "                \n",
    "                #dynamic creation and insertion of methods into the class __dict__\n",
    "                self.__dict__[method_name] = partial(self.on_planet, PLANETS[planet])\n",
    " \n",
    "    def on_planet(self, planet_ratio):\n",
    "        return round((self.seconds / self._earthyear) / planet_ratio, 2)\n",
    "\n",
    "agey = SpaceAge_b(8210123456)\n",
    "\n",
    "print(agey.on_earth())"
   ]
  },
  {
   "cell_type": "markdown",
   "metadata": {},
   "source": [
    "# Grains, Exercism Exercise: Or Proof you Can Do the Maths\n",
    "\n",
    "There's got to be a better way to do the summation things"
   ]
  },
  {
   "cell_type": "code",
   "execution_count": 43,
   "metadata": {
    "collapsed": true
   },
   "outputs": [],
   "source": [
    "def on_square(square_loc):\n",
    "    if (square_loc > 64) or square_loc <0 or square_loc==0:\n",
    "        raise ValueError('Oops')\n",
    "    else:\n",
    "        return (2**(square_loc-1))\n",
    "    \n",
    "def total_after(square_loc):\n",
    "    if (square_loc > 64) or square_loc <0 or square_loc==0:\n",
    "        raise ValueError('Oops')\n",
    "    else:\n",
    "        return sum(2**power for power in range(square_loc))\n",
    "    \n",
    "    \n",
    "def on_square_2(n):\n",
    "    if not (0 < n < 65):\n",
    "        raise ValueError()\n",
    "    return 1 << (n-1)\n",
    "\n",
    "\n",
    "def total_after_2(n):\n",
    "    if not (0 < n < 65):\n",
    "        raise ValueError()\n",
    "    return (1 << n) - 1\n"
   ]
  },
  {
   "cell_type": "code",
   "execution_count": 44,
   "metadata": {
    "collapsed": false
   },
   "outputs": [
    {
     "name": "stdout",
     "output_type": "stream",
     "text": [
      "8 8\n",
      "totes 15\n",
      "10000000 loops, best of 3: 30.5 ns per loop\n",
      "10000000 loops, best of 3: 33.9 ns per loop\n"
     ]
    }
   ],
   "source": [
    "print(on_square(4), 2**3)\n",
    "print('totes',total_after(4))\n",
    "\n",
    "% timeit total_after\n",
    "% timeit total_after_2"
   ]
  },
  {
   "cell_type": "markdown",
   "metadata": {
    "collapsed": true
   },
   "source": [
    "# Luhn Fun: Creating Something to Check if Something is Luhn\n",
    "\n",
    "In looking up a better definition of how the Luhn formula works, I discovered the [wikipedia article](https://en.wikipedia.org/wiki/Luhn_algorithm)... which _had a rough Python program for it._ Gee, thanks. "
   ]
  },
  {
   "cell_type": "code",
   "execution_count": 44,
   "metadata": {
    "collapsed": true
   },
   "outputs": [],
   "source": [
    "def digits_of(number):\n",
    "    return [int(i) for i in str(number)]\n",
    "\n",
    "def luhn_checksum(card_number):\n",
    "    digits = digits_of(card_number)\n",
    "    odd_digits = digits[-1::-2]\n",
    "    even_digits = digits[-2::-2]\n",
    "    total = sum(odd_digits)\n",
    "    for digit in even_digits:\n",
    "        print(sum(digits_of(2*digit)))\n",
    "        total += sum(digits_of(2 * digit))\n",
    "    print(total)\n",
    "    return total % 10\n",
    "\n",
    "def is_luhn_valid(card_number):\n",
    "    return luhn_checksum(card_number) == 0"
   ]
  },
  {
   "cell_type": "code",
   "execution_count": 45,
   "metadata": {
    "collapsed": false
   },
   "outputs": [
    {
     "data": {
      "text/plain": [
       "[5, 9]"
      ]
     },
     "execution_count": 45,
     "metadata": {},
     "output_type": "execute_result"
    }
   ],
   "source": [
    "digits_of(59)"
   ]
  },
  {
   "cell_type": "code",
   "execution_count": 46,
   "metadata": {
    "collapsed": false
   },
   "outputs": [
    {
     "name": "stdout",
     "output_type": "stream",
     "text": [
      "1\n",
      "10\n"
     ]
    },
    {
     "data": {
      "text/plain": [
       "0"
      ]
     },
     "execution_count": 46,
     "metadata": {},
     "output_type": "execute_result"
    }
   ],
   "source": [
    "luhn_checksum(59)"
   ]
  },
  {
   "cell_type": "code",
   "execution_count": 2,
   "metadata": {
    "collapsed": false
   },
   "outputs": [
    {
     "name": "stdout",
     "output_type": "stream",
     "text": [
      "055-444-285\n",
      "False\n"
     ]
    }
   ],
   "source": [
    " \n",
    "'''[int(i) for i in number if i !=\" \" or i!=\"-\"]\n",
    "def luhn_checksum(card_number):\n",
    "    digits = digits_of(card_number)\n",
    "    odd_digits = digits[-1::-2]\n",
    "    even_digits = digits[-2::-2]\n",
    "    total = sum(odd_digits)\n",
    "    for digit in even_digits:\n",
    "        total += sum(digits_of(2 * digit))\n",
    "    return total % 10\n",
    "\n",
    "def is_luhn_valid(card_number):\n",
    "    return luhn_checksum(card_number) == 0\n",
    "    \n",
    "\n",
    "double_even =[]\n",
    "for digit in even_digits:\n",
    "    double_even.append(sum(int(bit) for bit in str(digit)))\n",
    "\n",
    "for digit in even_digits:\n",
    "    double_even.append(2*digit)\n",
    "\n",
    "sum_double =[]\n",
    "for digit in double_even:\n",
    "    sum_double.append(sum(int(bit) for bit in str(digit)))\n",
    "\n",
    "even_digits_sum = [sum(int(bit) for bit in str(digit)) for digit in even_digit]\n",
    "'''\n",
    "\n",
    "    \n",
    "    \n",
    "def double_digiter(number):\n",
    "    return [int(i) for i in str(number)]\n",
    "import re\n",
    "\n",
    "\n",
    "def Luhn(number):\n",
    "    spaces_d = r'[\\s]+'\n",
    "    nono_char = r'\\D+'\n",
    "    clean_string = re.sub(spaces_d, \"\",number)\n",
    "    print(clean_string)\n",
    "    if re.search(nono_char,clean_string):\n",
    "        return False\n",
    "    else:\n",
    "        digits = [int(i) for i in clean_string]\n",
    "        odd_digits = digits[-1::-2]\n",
    "        even_digits = digits[-2::-2]\n",
    "        #print(odd_digits)\n",
    "        #print(even_digits)\n",
    "        even_digits_double = [2*digit for digit in even_digits]\n",
    "        even_digits_double_sum = []\n",
    "        for digit in even_digits_double:\n",
    "            even_digits_double_sum.append(sum(int(bit) for bit in str(digit)))\n",
    "        total= sum(odd_digits) + sum(even_digits_double_sum)\n",
    "        print(total)\n",
    "        return True if total % 10 == 0 else False\n",
    "\n",
    "print(Luhn(\"055-444-285\"))"
   ]
  },
  {
   "cell_type": "code",
   "execution_count": 1,
   "metadata": {
    "collapsed": true
   },
   "outputs": [],
   "source": [
    "#Luhn\n",
    "#Solution adapted from Wikipedia solution honestly. \n",
    "import re #This might not be the best idea. \n",
    "class Luhn(object):\n",
    "    def __init__(self, number):\n",
    "    \tself.number = number\n",
    "\n",
    "    def is_valid(self):\n",
    "    \tspaces_d = r'\\s+' #Remove spaces\n",
    "    \tnono_char = r'\\D+' #Detect if there is a non-digit character or \"no-no\" character\n",
    "    \tclean_string = re.sub(spaces_d, \"\",self.number) #Remove spaces from string\n",
    "    \tif re.search(nono_char,clean_string) or clean_string=='0': \n",
    "    \t\t#If string has no-no character, reject and return false\n",
    "    \t\treturn False\n",
    "    \telse:\n",
    "    \t\tdigits = [int(i) for i in clean_string] #break string into list of digits\n",
    "    \t\todd_digits = digits[-1::-2] #Start from the right, the other digits\n",
    "    \t\teven_digits = digits[-2::-2] #the digits to be doubled\n",
    "    \t\teven_digits_double = [2*digit for digit in even_digits] #double the digits\n",
    "    \t\teven_digits_double_sum = [] #sum the digits of the doubled digits\n",
    "    \t\tfor digit in even_digits_double: \n",
    "    \t\t\teven_digits_double_sum.append(sum(int(bit) for bit in str(digit))) \n",
    "    \t\ttotal= sum(odd_digits) + sum(even_digits_double_sum)\n",
    "    \t\treturn True if total % 10 == 0 else False\n",
    "    "
   ]
  },
  {
   "cell_type": "code",
   "execution_count": 2,
   "metadata": {
    "collapsed": false
   },
   "outputs": [
    {
     "data": {
      "text/plain": [
       "True"
      ]
     },
     "execution_count": 2,
     "metadata": {},
     "output_type": "execute_result"
    }
   ],
   "source": [
    "Luhn(\"055 444 285\").is_valid()"
   ]
  },
  {
   "cell_type": "markdown",
   "metadata": {
    "collapsed": true
   },
   "source": [
    "# Pig Latin\n",
    "It's a programming exercise classic. How have we not done this already? \n",
    "\n",
    "Lessons Learned:\n",
    "- I forgot how Pig Latin works. \n",
    "- I need to wean myself off regex. "
   ]
  },
  {
   "cell_type": "code",
   "execution_count": 4,
   "metadata": {
    "collapsed": false
   },
   "outputs": [
    {
     "name": "stdout",
     "output_type": "stream",
     "text": [
      "omechray\n"
     ]
    }
   ],
   "source": [
    "import re\n",
    "def translate(word_input):\n",
    "    vowells = r'^[aeiou]'\n",
    "    cons_cons_vowell = r'^[^aeiouyx][^aeiou][aeiou]' #two consonants + vowel\n",
    "    c3_vowell = r'^[^aeiouxy][^aeiouy][^aeiouy]' #three consonants in a row\n",
    "    xy_cons = r'[xy][^aeiou]' #pesky case where y/x + consonant\n",
    "    \n",
    "    word_transformed=[]\n",
    "    word_input_str = word_input.split(\" \")\n",
    "    for word in word_input_str:\n",
    "        if re.match(vowells, word):\n",
    "            word_transformed.append(word+'ay')\n",
    "        elif word[:2] =='qu': #could probably fold this case into regex\n",
    "            word_transformed.append(word[2:]+word[:2]+'ay')\n",
    "        elif word[:3]=='squ': #could probably fold this case into regex\n",
    "        \tword_transformed.append(word[3:]+word[:3]+'ay')\n",
    "        elif re.match(cons_cons_vowell, word):\n",
    "            word_transformed.append(word[2:]+word[:2]+'ay')\n",
    "        elif re.match(c3_vowell, word):\n",
    "            word_transformed.append(word[3:]+word[:3]+'ay')\n",
    "        elif re.match(xy_cons, word):\n",
    "        \tword_transformed.append(word+'ay')\n",
    "        else:\n",
    "            word_transformed.append(word[1:]+word[0]+'ay')\n",
    " \n",
    "            \n",
    "    \n",
    "            \n",
    "        \n",
    "    \n",
    "    return \" \".join(word_transformed)\n",
    "\n",
    "print(translate('chrome'))"
   ]
  },
  {
   "cell_type": "code",
   "execution_count": 7,
   "metadata": {
    "collapsed": false
   },
   "outputs": [
    {
     "name": "stdout",
     "output_type": "stream",
     "text": [
      "10000000 loops, best of 3: 30.6 ns per loop\n"
     ]
    }
   ],
   "source": [
    "% timeit translate"
   ]
  },
  {
   "cell_type": "markdown",
   "metadata": {
    "collapsed": true
   },
   "source": [
    "# Pig Latin Solution: Dan\n",
    "This doesn't use regex. It uses recursion.  Let's see if it's faster."
   ]
  },
  {
   "cell_type": "code",
   "execution_count": 8,
   "metadata": {
    "collapsed": false
   },
   "outputs": [
    {
     "data": {
      "text/plain": [
       "'aresquay'"
      ]
     },
     "execution_count": 8,
     "metadata": {},
     "output_type": "execute_result"
    }
   ],
   "source": [
    "VOWELS = \"aeiou\"\n",
    "\n",
    "def translate_d(sentence):\n",
    "    \"Translate a sentence in Pig Latin\"\n",
    "    return \" \".join(translate_word(word) for word in sentence.split(\" \"))\n",
    "\n",
    "def translate_word(word):\n",
    "    \"Translate a word to Pig Latin\"\n",
    "    return reorder_word(word) + \"ay\"\n",
    "\n",
    "def reorder_word(word):\n",
    "    \"Reorder the word according to Pig Latin rules\"\n",
    "    if word[0] in VOWELS or word[:2] in (\"yt\", \"xr\"):\n",
    "        return word\n",
    "    elif word[:2] == \"qu\":\n",
    "        return word[2:] + word[:2]\n",
    "    else:\n",
    "        # Place the first consonant to the end and call us recursively!\n",
    "        return reorder_word(word[1:] + word[0])\n",
    "translate_d('square')"
   ]
  },
  {
   "cell_type": "code",
   "execution_count": 26,
   "metadata": {
    "collapsed": false
   },
   "outputs": [
    {
     "name": "stdout",
     "output_type": "stream",
     "text": [
      "No regex, no cry?\n",
      "10000000 loops, best of 3: 30.5 ns per loop\n",
      "With RegEx\n",
      "10000000 loops, best of 3: 30.5 ns per loop\n"
     ]
    }
   ],
   "source": [
    "print('No regex, no cry?')\n",
    "% timeit translate_d\n",
    "\n",
    "print('With RegEx')\n",
    "% timeit translate"
   ]
  },
  {
   "cell_type": "markdown",
   "metadata": {},
   "source": [
    "# Prime Factors:\n",
    "\n",
    "I just looked it up. This is an algorithm as old as time. There are many ways to skin this cat. "
   ]
  },
  {
   "cell_type": "markdown",
   "metadata": {},
   "source": [
    "### My Solution:"
   ]
  },
  {
   "cell_type": "code",
   "execution_count": 17,
   "metadata": {
    "collapsed": true
   },
   "outputs": [],
   "source": [
    "def prime_factors(num):\n",
    "\ti = 2\n",
    "\tfactors = []\n",
    "\twhile i * i <= num:\n",
    "\t\tif num % i: #if it ain't a factor\n",
    "\t\t\ti += 1\n",
    "\t\telse:\n",
    "\t\t\tnum //= i #reset num\n",
    "\t\t\tfactors.append(i)\n",
    "\tif num > 1:\n",
    "\t\tfactors.append(num)\n",
    "\treturn factors"
   ]
  },
  {
   "cell_type": "code",
   "execution_count": 18,
   "metadata": {
    "collapsed": false
   },
   "outputs": [
    {
     "data": {
      "text/plain": [
       "[23]"
      ]
     },
     "execution_count": 18,
     "metadata": {},
     "output_type": "execute_result"
    }
   ],
   "source": [
    "prime_factors(23)"
   ]
  },
  {
   "cell_type": "markdown",
   "metadata": {},
   "source": [
    "### Solution Using Divmod (rando solution from rando 'tweekmonster')\n"
   ]
  },
  {
   "cell_type": "code",
   "execution_count": 19,
   "metadata": {
    "collapsed": true
   },
   "outputs": [],
   "source": [
    "def prime_factors_divmod(prime):\n",
    "    factor = 2\n",
    "    factors = []\n",
    "    while prime > 1:\n",
    "        p, r = divmod(prime, factor)\n",
    "        if r:\n",
    "            factor += 1\n",
    "            continue\n",
    "        factors.append(factor)\n",
    "        prime = p\n",
    "\n",
    "    return factors"
   ]
  },
  {
   "cell_type": "code",
   "execution_count": 20,
   "metadata": {
    "collapsed": false
   },
   "outputs": [
    {
     "data": {
      "text/plain": [
       "[23]"
      ]
     },
     "execution_count": 20,
     "metadata": {},
     "output_type": "execute_result"
    }
   ],
   "source": [
    "prime_factors_divmod(23)"
   ]
  },
  {
   "cell_type": "code",
   "execution_count": 24,
   "metadata": {
    "collapsed": false
   },
   "outputs": [
    {
     "name": "stdout",
     "output_type": "stream",
     "text": [
      "Without Divmod\n",
      "10000000 loops, best of 3: 34 ns per loop\n",
      "WithDivMod\n",
      "10000000 loops, best of 3: 34.1 ns per loop\n"
     ]
    }
   ],
   "source": [
    "print(\"Without Divmod\")\n",
    "% timeit prime_factors\n",
    "\n",
    "print('With DivMod')\n",
    "%  timeit prime_factors_divmod"
   ]
  },
  {
   "cell_type": "markdown",
   "metadata": {},
   "source": [
    "#### divmod()\n",
    "\n",
    "```divmod(a,b)``` takes  parameters a,b and returns (a//b and a%b) sda"
   ]
  },
  {
   "cell_type": "markdown",
   "metadata": {
    "collapsed": true
   },
   "source": [
    "### Simple Cipher\n",
    "\n",
    "This program was a bit odd since it actually has you create two objects, a Caesar Cipher and a regular cipher.\n",
    "\n"
   ]
  },
  {
   "cell_type": "code",
   "execution_count": null,
   "metadata": {
    "collapsed": true
   },
   "outputs": [],
   "source": [
    "import re\n",
    "import string\n",
    "\n",
    "class Cipher(object):\n",
    "    def __init__(self, *args):\n",
    "    \tif len(args) !=0:\n",
    "    \t\tself.key = args\n",
    "    \telse:\n",
    "    \t\tself.key = 'diff'\n",
    "    def encode(self, source_text):\n",
    "    \tnon_whitespace=r'\\W+|[0-9]+'\n",
    "    \tself.source_text = re.sub(non_whitespace, \"\",source_text)\n",
    "    \tpass\n",
    "    def decode(self, source_text):\n",
    "    \tnon_whitespace=r'\\W+|[0-9]+'\n",
    "    \tself.source_text = re.sub(non_whitespace, \"\",source_text)\n",
    "    \tpass\n",
    "    def _calc_shift(self, letter):\n",
    "    \treturn string.ascii_lowercase\n",
    "\n",
    "\n",
    "class Caesar(object):\n",
    "    def __init__(self):\n",
    "    \tself.key_dict = {k: v for (k,v) in zip('abcdefghijklmnopqrstuvwxyz','defghijklmnopqrstuvwxyzabc')}\n",
    "    \tself.decode_dict = {v:k for k,v in self.key_dict.items()}\n",
    "\n",
    "    def encode(self, source_text):\n",
    "    \tnon_whitespace = r'\\W+|[0-9]+'\n",
    "    \tself.source_text = source_text.lower()\n",
    "    \tready_source_text = re.sub(non_whitespace, \"\",self.source_text)\n",
    "    \tciphered_text = ''.join((self.key_dict[letter] for letter in ready_source_text))\n",
    "    \treturn ciphered_text\n",
    "\n",
    "    def decode(self, source_text):\n",
    "    \tnon_whitespace = r'\\W+|[0-9]+'\n",
    "    \tself.source_text = source_text.lower()\n",
    "    \tready_source_text = re.sub(non_whitespace, \"\",self.source_text)\n",
    "    \tdeciphered_text = ''.join((self.decode_dict[letter] for letter in ready_source_text))\n",
    "    \treturn deciphered_text\n"
   ]
  }
 ],
 "metadata": {
  "kernelspec": {
   "display_name": "Python 3",
   "language": "python",
   "name": "python3"
  },
  "language_info": {
   "codemirror_mode": {
    "name": "ipython",
    "version": 3
   },
   "file_extension": ".py",
   "mimetype": "text/x-python",
   "name": "python",
   "nbconvert_exporter": "python",
   "pygments_lexer": "ipython3",
   "version": "3.6.0"
  }
 },
 "nbformat": 4,
 "nbformat_minor": 2
}

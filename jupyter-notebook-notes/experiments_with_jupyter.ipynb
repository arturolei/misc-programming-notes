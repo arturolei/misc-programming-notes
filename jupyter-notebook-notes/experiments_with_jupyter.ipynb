{
 "cells": [
  {
   "cell_type": "code",
   "execution_count": 3,
   "metadata": {
    "collapsed": true
   },
   "outputs": [],
   "source": [
    "def calculate_hw_grade(raw_score):\n",
    "    if raw_score <= 70:\n",
    "        return (raw_score*0.01)*50\n",
    "    else:\n",
    "        return (raw_score+8.65)*0.01*50"
   ]
  },
  {
   "cell_type": "code",
   "execution_count": 15,
   "metadata": {
    "collapsed": false
   },
   "outputs": [
    {
     "data": {
      "text/plain": [
       "49.525000000000006"
      ]
     },
     "execution_count": 15,
     "metadata": {},
     "output_type": "execute_result"
    }
   ],
   "source": [
    "calculate_hw_grade(90.4)"
   ]
  },
  {
   "cell_type": "code",
   "execution_count": 1,
   "metadata": {
    "collapsed": false
   },
   "outputs": [
    {
     "ename": "IndentationError",
     "evalue": "expected an indented block (<ipython-input-1-968bfa681658>, line 6)",
     "output_type": "error",
     "traceback": [
      "\u001b[0;36m  File \u001b[0;32m\"<ipython-input-1-968bfa681658>\"\u001b[0;36m, line \u001b[0;32m6\u001b[0m\n\u001b[0;31m    def on_mars(self):\u001b[0m\n\u001b[0m      ^\u001b[0m\n\u001b[0;31mIndentationError\u001b[0m\u001b[0;31m:\u001b[0m expected an indented block\n"
     ]
    }
   ],
   "source": [
    "class SpaceAge(object):\n",
    "    def __init__(self, age_seconds):\n",
    "        self.age_seconds = age_seconds\n",
    "    def on_earth(self):\n",
    "\n",
    "    def on_mars(self):\n",
    "\n",
    "    def on_venus(self):\n",
    "\n",
    "    def on_jupiter(self):\n"
   ]
  },
  {
   "cell_type": "code",
   "execution_count": null,
   "metadata": {
    "collapsed": true
   },
   "outputs": [],
   "source": []
  }
 ],
 "metadata": {
  "kernelspec": {
   "display_name": "Python 3",
   "language": "python",
   "name": "python3"
  }
 },
 "nbformat": 4,
 "nbformat_minor": 2
}

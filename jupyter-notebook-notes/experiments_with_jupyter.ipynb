{
 "cells": [
  {
   "cell_type": "code",
   "execution_count": 3,
   "metadata": {
    "collapsed": true
   },
   "outputs": [],
   "source": [
    "def calculate_hw_grade(raw_score):\n",
    "    if raw_score <= 70:\n",
    "        return (raw_score*0.01)*50\n",
    "    else:\n",
    "        return (raw_score+8.65)*0.01*50"
   ]
  },
  {
   "cell_type": "code",
   "execution_count": 15,
   "metadata": {
    "collapsed": false
   },
   "outputs": [
    {
     "data": {
      "text/plain": [
       "49.525000000000006"
      ]
     },
     "execution_count": 15,
     "metadata": {},
     "output_type": "execute_result"
    }
   ],
   "source": [
    "calculate_hw_grade(90.4)"
   ]
  },
  {
   "cell_type": "markdown",
   "metadata": {},
   "source": [
    "# Space Age, Exercism Exercise\n",
    "\n",
    "I had to get the pen and paper out. "
   ]
  },
  {
   "cell_type": "code",
   "execution_count": 32,
   "metadata": {
    "collapsed": false
   },
   "outputs": [],
   "source": [
    "class SpaceAge(object):\n",
    "    def __init__(self, age_seconds):\n",
    "        self.age_seconds = age_seconds\n",
    "        self.age_earth_years = self.age_seconds/31557600\n",
    "    def on_earth(self):\n",
    "        return round(self.age_earth_years,2)\n",
    "    def on_mars(self):\n",
    "        return round(self.age_earth_years * (1/1.8808158),2)\n",
    "    def on_venus(self):\n",
    "        return round(self.age_earth_years * (1/0.61519726),2)\n",
    "    def on_jupiter(self):\n",
    "        return round(self.age_earth_years *(1/1.8808158),2)\n",
    "    def on_saturn(self):\n",
    "        return round(self.age_earth_years * (1/29.447498),2)\n",
    "    def on_uranus(self):\n",
    "        return round(self.age_earth_years * (1/84.016846),2)\n",
    "    def on_neptune(self):\n",
    "        return round(self.age_earth_years * (1/164.79132),2)\n",
    "        \n"
   ]
  },
  {
   "cell_type": "code",
   "execution_count": 33,
   "metadata": {
    "collapsed": true
   },
   "outputs": [],
   "source": [
    "age = SpaceAge(8210123456)"
   ]
  },
  {
   "cell_type": "code",
   "execution_count": 35,
   "metadata": {
    "collapsed": false
   },
   "outputs": [
    {
     "name": "stdout",
     "output_type": "stream",
     "text": [
      "260.16\n"
     ]
    }
   ],
   "source": [
    "print(age.on_earth())"
   ]
  },
  {
   "cell_type": "code",
   "execution_count": 36,
   "metadata": {
    "collapsed": false
   },
   "outputs": [
    {
     "ename": "SyntaxError",
     "evalue": "invalid syntax (<unknown>, line 1)",
     "output_type": "error",
     "traceback": [
      "\u001b[0;36m  File \u001b[0;32m\"<unknown>\"\u001b[0;36m, line \u001b[0;32m1\u001b[0m\n\u001b[0;31m    it SpaceAge\u001b[0m\n\u001b[0m              ^\u001b[0m\n\u001b[0;31mSyntaxError\u001b[0m\u001b[0;31m:\u001b[0m invalid syntax\n"
     ]
    }
   ],
   "source": [
    "% time it SpaceAge"
   ]
  },
  {
   "cell_type": "markdown",
   "metadata": {},
   "source": [
    "# Grains, Exercism Exercise: Or Proof you Can Do the Maths\n",
    "\n",
    "There's got to be a better way to do the summation things"
   ]
  },
  {
   "cell_type": "code",
   "execution_count": 51,
   "metadata": {
    "collapsed": true
   },
   "outputs": [],
   "source": [
    "def on_square(square_loc):\n",
    "    if (square_loc > 64) or square_loc <0 or square_loc==0:\n",
    "        raise ValueError('Oops')\n",
    "    else:\n",
    "        return (2**(square_loc-1))\n",
    "    \n",
    "def total_after(square_loc):\n",
    "    if (square_loc > 64) or square_loc <0 or square_loc==0:\n",
    "        raise ValueError('Oops')\n",
    "    else:\n",
    "        return sum([2**power for power in range(square_loc)])"
   ]
  },
  {
   "cell_type": "code",
   "execution_count": 52,
   "metadata": {
    "collapsed": false
   },
   "outputs": [
    {
     "name": "stdout",
     "output_type": "stream",
     "text": [
      "8 8\n",
      "totes 15\n"
     ]
    }
   ],
   "source": [
    "print(on_square(4), 2**3)\n",
    "print('totes',total_after(4))"
   ]
  },
  {
   "cell_type": "code",
   "execution_count": null,
   "metadata": {
    "collapsed": true
   },
   "outputs": [],
   "source": []
  },
  {
   "cell_type": "code",
   "execution_count": null,
   "metadata": {
    "collapsed": true
   },
   "outputs": [],
   "source": []
  }
 ],
 "metadata": {
  "kernelspec": {
   "display_name": "Python 3",
   "language": "python",
   "name": "python3"
  },
  "language_info": {
   "codemirror_mode": {
    "name": "ipython",
    "version": 3
   },
   "file_extension": ".py",
   "mimetype": "text/x-python",
   "name": "python",
   "nbconvert_exporter": "python",
   "pygments_lexer": "ipython3",
   "version": "3.6.0"
  }
 },
 "nbformat": 4,
 "nbformat_minor": 2
}

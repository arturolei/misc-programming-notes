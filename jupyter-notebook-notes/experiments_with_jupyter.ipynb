{
 "cells": [
  {
   "cell_type": "code",
   "execution_count": 3,
   "metadata": {
    "collapsed": true
   },
   "outputs": [],
   "source": [
    "def calculate_hw_grade(raw_score):\n",
    "    if raw_score <= 70:\n",
    "        return (raw_score*0.01)*50\n",
    "    else:\n",
    "        return (raw_score+8.65)*0.01*50"
   ]
  },
  {
   "cell_type": "code",
   "execution_count": 15,
   "metadata": {
    "collapsed": false
   },
   "outputs": [
    {
     "data": {
      "text/plain": [
       "49.525000000000006"
      ]
     },
     "execution_count": 15,
     "metadata": {},
     "output_type": "execute_result"
    }
   ],
   "source": [
    "calculate_hw_grade(90.4)"
   ]
  },
  {
   "cell_type": "markdown",
   "metadata": {},
   "source": [
    "# Space Age, Exercism Exercise\n",
    "\n",
    "I had to get the pen and paper out==> false"
   ]
  },
  {
   "cell_type": "code",
   "execution_count": 1,
   "metadata": {
    "collapsed": false
   },
   "outputs": [],
   "source": [
    "class SpaceAge(object):\n",
    "    def __init__(self, age_seconds):\n",
    "        self.seconds = age_seconds\n",
    "        self.age_earth_years = self.seconds/31557600\n",
    "    def on_mercury(self):\n",
    "    \treturn round(self.age_earth_years * (1/0.2408467),2)\n",
    "    def on_earth(self):\n",
    "        return round(self.age_earth_years,2)\n",
    "    def on_mars(self):\n",
    "        return round(self.age_earth_years * (1/1.8808158),2)\n",
    "    def on_venus(self):\n",
    "        return round(self.age_earth_years * (1/0.61519726),2)\n",
    "    def on_jupiter(self):\n",
    "        return round(self.age_earth_years *(1/11.862615),2)\n",
    "    def on_saturn(self):\n",
    "        return round(self.age_earth_years * (1/29.447498),2)\n",
    "    def on_uranus(self):\n",
    "        return round(self.age_earth_years * (1/84.016846),2)\n",
    "    def on_neptune(self):\n",
    "        return round(self.age_earth_years * (1/164.79132),2)\n",
    "\n",
    "        \n"
   ]
  },
  {
   "cell_type": "code",
   "execution_count": 2,
   "metadata": {
    "collapsed": true
   },
   "outputs": [],
   "source": [
    "age = SpaceAge(8210123456)"
   ]
  },
  {
   "cell_type": "code",
   "execution_count": 3,
   "metadata": {
    "collapsed": false
   },
   "outputs": [
    {
     "name": "stdout",
     "output_type": "stream",
     "text": [
      "260.16\n"
     ]
    }
   ],
   "source": [
    "print(age.on_earth())"
   ]
  },
  {
   "cell_type": "markdown",
   "metadata": {},
   "source": [
    "## Bethany Solution for Space Age\n",
    "Note how this creates a method on the fly."
   ]
  },
  {
   "cell_type": "code",
   "execution_count": 12,
   "metadata": {
    "collapsed": false
   },
   "outputs": [
    {
     "name": "stdout",
     "output_type": "stream",
     "text": [
      "260.16\n"
     ]
    }
   ],
   "source": [
    "from functools import partial\n",
    "\n",
    "\n",
    "#Pulled out planets as a constant\n",
    "PLANETS = {'earth' : 1,\n",
    "           'mercury' : 0.2408467,\n",
    "           'venus' : 0.61519726,\n",
    "           'mars' : 1.8808158,\n",
    "           'jupiter' : 11.862615,\n",
    "           'saturn' : 29.447498,\n",
    "           'uranus' : 84.016846,\n",
    "           'neptune' : 164.79132}\n",
    "\n",
    "\n",
    "class SpaceAge_b():\n",
    "    def __init__(self, age_seconds):\n",
    "        self.seconds = age_seconds\n",
    "        self._earthyear = 31557600\n",
    "        \n",
    "        for index, planet in enumerate(PLANETS):\n",
    "                method_name = 'on_{}'.format(planet)\n",
    "                \n",
    "                #dynamic creation and insertion of methods into the class __dict__\n",
    "                self.__dict__[method_name] = partial(self.on_planet, PLANETS[planet])\n",
    " \n",
    "    def on_planet(self, planet_ratio):\n",
    "        return round((self.seconds / self._earthyear) / planet_ratio, 2)\n",
    "\n",
    "agey = SpaceAge_b(8210123456)\n",
    "\n",
    "print(agey.on_earth())"
   ]
  },
  {
   "cell_type": "markdown",
   "metadata": {},
   "source": [
    "# Grains, Exercism Exercise: Or Proof you Can Do the Maths\n",
    "\n",
    "There's got to be a better way to do the summation things"
   ]
  },
  {
   "cell_type": "code",
   "execution_count": 43,
   "metadata": {
    "collapsed": false
   },
   "outputs": [],
   "source": [
    "def on_square(square_loc):\n",
    "    if (square_loc > 64) or square_loc <0 or square_loc==0:\n",
    "        raise ValueError('Oops')\n",
    "    else:\n",
    "        return (2**(square_loc-1))\n",
    "    \n",
    "def total_after(square_loc):\n",
    "    if (square_loc > 64) or square_loc <0 or square_loc==0:\n",
    "        raise ValueError('Oops')\n",
    "    else:\n",
    "        return sum(2**power for power in range(square_loc))\n",
    "    \n",
    "    \n",
    "def on_square_2(n):\n",
    "    if not (0 < n < 65):\n",
    "        raise ValueError()\n",
    "    return 1 << (n-1)\n",
    "\n",
    "\n",
    "def total_after_2(n):\n",
    "    if not (0 < n < 65):\n",
    "        raise ValueError()\n",
    "    return (1 << n) - 1\n"
   ]
  },
  {
   "cell_type": "code",
   "execution_count": 44,
   "metadata": {
    "collapsed": false
   },
   "outputs": [
    {
     "name": "stdout",
     "output_type": "stream",
     "text": [
      "8 8\n",
      "totes 15\n",
      "10000000 loops, best of 3: 30.5 ns per loop\n",
      "10000000 loops, best of 3: 33.9 ns per loop\n"
     ]
    }
   ],
   "source": [
    "print(on_square(4), 2**3)\n",
    "print('totes',total_after(4))\n",
    "\n",
    "% timeit total_after\n",
    "% timeit total_after_2"
   ]
  },
  {
   "cell_type": "markdown",
   "metadata": {
    "collapsed": true
   },
   "source": [
    "# Luhn Fun: Creating Something to Check if Something is Luhn\n",
    "\n",
    "In looking up a better definition of how the Luhn formula works, I discovered the [wikipedia article](https://en.wikipedia.org/wiki/Luhn_algorithm)... which _had a rough Python program for it._ Gee, thanks. "
   ]
  },
  {
   "cell_type": "code",
   "execution_count": 44,
   "metadata": {
    "collapsed": true
   },
   "outputs": [],
   "source": [
    "def digits_of(number):\n",
    "    return [int(i) for i in str(number)]\n",
    "\n",
    "def luhn_checksum(card_number):\n",
    "    digits = digits_of(card_number)\n",
    "    odd_digits = digits[-1::-2]\n",
    "    even_digits = digits[-2::-2]\n",
    "    total = sum(odd_digits)\n",
    "    for digit in even_digits:\n",
    "        print(sum(digits_of(2*digit)))\n",
    "        total += sum(digits_of(2 * digit))\n",
    "    print(total)\n",
    "    return total % 10\n",
    "\n",
    "def is_luhn_valid(card_number):\n",
    "    return luhn_checksum(card_number) == 0"
   ]
  },
  {
   "cell_type": "code",
   "execution_count": 45,
   "metadata": {
    "collapsed": false
   },
   "outputs": [
    {
     "data": {
      "text/plain": [
       "[5, 9]"
      ]
     },
     "execution_count": 45,
     "metadata": {},
     "output_type": "execute_result"
    }
   ],
   "source": [
    "digits_of(59)"
   ]
  },
  {
   "cell_type": "code",
   "execution_count": 46,
   "metadata": {
    "collapsed": false
   },
   "outputs": [
    {
     "name": "stdout",
     "output_type": "stream",
     "text": [
      "1\n",
      "10\n"
     ]
    },
    {
     "data": {
      "text/plain": [
       "0"
      ]
     },
     "execution_count": 46,
     "metadata": {},
     "output_type": "execute_result"
    }
   ],
   "source": [
    "luhn_checksum(59)"
   ]
  },
  {
   "cell_type": "code",
   "execution_count": 53,
   "metadata": {
    "collapsed": false
   },
   "outputs": [
    {
     "name": "stdout",
     "output_type": "stream",
     "text": [
      "055£444$285\n",
      "False\n"
     ]
    }
   ],
   "source": [
    " \n",
    "'''[int(i) for i in number if i !=\" \" or i!=\"-\"]\n",
    "def luhn_checksum(card_number):\n",
    "    digits = digits_of(card_number)\n",
    "    odd_digits = digits[-1::-2]\n",
    "    even_digits = digits[-2::-2]\n",
    "    total = sum(odd_digits)\n",
    "    for digit in even_digits:\n",
    "        total += sum(digits_of(2 * digit))\n",
    "    return total % 10\n",
    "\n",
    "def is_luhn_valid(card_number):\n",
    "    return luhn_checksum(card_number) == 0\n",
    "    \n",
    "\n",
    "double_even =[]\n",
    "for digit in even_digits:\n",
    "    double_even.append(sum(int(bit) for bit in str(digit)))\n",
    "\n",
    "for digit in even_digits:\n",
    "    double_even.append(2*digit)\n",
    "\n",
    "sum_double =[]\n",
    "for digit in double_even:\n",
    "    sum_double.append(sum(int(bit) for bit in str(digit)))\n",
    "\n",
    "even_digits_sum = [sum(int(bit) for bit in str(digit)) for digit in even_digit]\n",
    "'''\n",
    "\n",
    "    \n",
    "    \n",
    "def double_digiter(number):\n",
    "    return [int(i) for i in str(number)]\n",
    "import re\n",
    "\n",
    "\n",
    "def Luhn(number):\n",
    "    spaces_d = r'[\\s-]+'\n",
    "    nono_char = r'\\D+'\n",
    "    clean_string = re.sub(spaces_d, \"\",number)\n",
    "    print(clean_string)\n",
    "    if re.search(nono_char,clean_string):\n",
    "        return False\n",
    "    else:\n",
    "        digits = [int(i) for i in clean_string]\n",
    "        odd_digits = digits[-1::-2]\n",
    "        even_digits = digits[-2::-2]\n",
    "        #print(odd_digits)\n",
    "        #print(even_digits)\n",
    "        even_digits_double = [2*digit for digit in even_digits]\n",
    "        even_digits_double_sum = []\n",
    "        for digit in even_digits_double:\n",
    "            even_digits_double_sum.append(sum(int(bit) for bit in str(digit)))\n",
    "        total= sum(odd_digits) + sum(even_digits_double_sum)\n",
    "        print(total)\n",
    "        return True if total % 10 == 0 else False\n",
    "\n",
    "print(Luhn(\"055£ 444$ 285\"))"
   ]
  },
  {
   "cell_type": "code",
   "execution_count": null,
   "metadata": {
    "collapsed": true
   },
   "outputs": [],
   "source": [
    "'''\n",
    "class Luhn():\n",
    "    def __init__(self,number ):\n",
    "'''\n",
    "    "
   ]
  }
 ],
 "metadata": {
  "kernelspec": {
   "display_name": "Python 3",
   "language": "python",
   "name": "python3"
  },
  "language_info": {
   "codemirror_mode": {
    "name": "ipython",
    "version": 3
   },
   "file_extension": ".py",
   "mimetype": "text/x-python",
   "name": "python",
   "nbconvert_exporter": "python",
   "pygments_lexer": "ipython3",
   "version": "3.6.0"
  }
 },
 "nbformat": 4,
 "nbformat_minor": 2
}

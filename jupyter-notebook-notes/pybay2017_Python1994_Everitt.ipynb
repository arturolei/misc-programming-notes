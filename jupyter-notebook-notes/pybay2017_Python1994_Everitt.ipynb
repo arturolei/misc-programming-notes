{
 "cells": [
  {
   "cell_type": "markdown",
   "metadata": {},
   "source": [
    "# Python 1994 \n",
    "\n",
    "Scripting language at time of Python: Perl, Tcl/tk (\"Tickle\"), and Python.\n",
    "\n",
    "## How He/We Got There:\n",
    "He was working in the early 90s with the internet. Marc Andresson tech-supported my tech-OS question. \n",
    "\n",
    "\n",
    "Python had a \"mailing list.\"\n",
    "It was an old file that you got on by e-mailing Guido. \n",
    "\n",
    "Python was in its infancy, still in beta testing. Guido himself wrote the letters. \n",
    "\n",
    "## Presenter then presented e-mails.\n",
    "- UUNET\n",
    "- \"Guido bitching about Lambdas in 1994\"\n",
    "- \"If Guido was hit by a bus?\"\n",
    "\n",
    "These e-mails reflect the seeds of design decisions later planted in the Python community. \n",
    "- \"Come for the language, stay for the comunity.\"\n",
    "\n",
    "\n",
    "## First Conference in the 1990s:\n",
    "\n",
    "- Early e-mail contains seeds of what would become Python\n",
    "\n",
    "This is a free-form, freewheling talk. \n",
    "\n",
    "- Zope helped beat Perl? How? \n",
    "\n",
    "Mostly fun questions: \n",
    "- Regex: \"Pythonw was designed. Perl was accumulated.\"\n",
    "\n",
    "\n",
    "Why did Python have a warm culture? It was Guido. Apparently, he was a good community leader. \n",
    "\n",
    "## \"Guido's time machine\"\n",
    "Guido has hidden things or often comments on what has been added or removed.\n",
    "\n",
    "Don't act like a brogrammer.\n",
    "\n",
    "Q: Is there anything in the language that influenced the culture? Guido's insight: you read code more than you write code, implication for how you share code with colleagues.\n",
    "\n",
    "Q:\"How many of you watched Monty Python?\"\n",
    "A:\"A few people signed up [for the mailing list] thinking it was about Monty Python\"\n",
    "\n",
    "Why did Python survive?\n",
    "- Inherent nature of the language\n",
    "- Positive community which exchanged many things\n"
   ]
  },
  {
   "cell_type": "code",
   "execution_count": null,
   "metadata": {
    "collapsed": true
   },
   "outputs": [],
   "source": []
  }
 ],
 "metadata": {
  "kernelspec": {
   "display_name": "Python 3",
   "language": "python",
   "name": "python3"
  },
  "language_info": {
   "codemirror_mode": {
    "name": "ipython",
    "version": 3
   },
   "file_extension": ".py",
   "mimetype": "text/x-python",
   "name": "python",
   "nbconvert_exporter": "python",
   "pygments_lexer": "ipython3",
   "version": "3.6.0"
  }
 },
 "nbformat": 4,
 "nbformat_minor": 2
}

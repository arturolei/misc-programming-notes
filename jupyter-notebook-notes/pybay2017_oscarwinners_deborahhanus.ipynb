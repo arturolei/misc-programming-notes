{
 "cells": [
  {
   "cell_type": "markdown",
   "metadata": {},
   "source": [
    "# Predicting Oscar Winners Based on Stuff You Find on Internet\n",
    "\n",
    "Computer ran out of power so I had to stop taking notes. \n",
    "\n",
    "Most of data science is data-wrangling (82%, where 62% is wrangling, 20% data wrangling)\n",
    "\n",
    "How to build and use a great dataset?\n",
    "- Define an answerable question\n",
    "- Acquire good data\n",
    "- Understand taht data\n",
    "- Fit a model and analyze error\n",
    "- Draw conclusions about that data? \n",
    "\n",
    "\n",
    "What factors drive movie revenue?\n",
    "- If put money into it, will we get money out.\n",
    "- Define a question you can answer:\n",
    "    - Vague: Will movie be hit?\n",
    "    - Good: How likely will it be success?\n",
    "    - Better: What traits correlate movie success\n",
    "    \n",
    "Good data:\n",
    "- Relevant \n",
    "- Structured\n",
    "- Relatively complete\n",
    "\n",
    "She said to check the Jupyter Notebooks. "
   ]
  },
  {
   "cell_type": "code",
   "execution_count": null,
   "metadata": {
    "collapsed": true
   },
   "outputs": [],
   "source": []
  }
 ],
 "metadata": {
  "kernelspec": {
   "display_name": "Python 3",
   "language": "python",
   "name": "python3"
  },
  "language_info": {
   "codemirror_mode": {
    "name": "ipython",
    "version": 3
   },
   "file_extension": ".py",
   "mimetype": "text/x-python",
   "name": "python",
   "nbconvert_exporter": "python",
   "pygments_lexer": "ipython3",
   "version": "3.6.0"
  }
 },
 "nbformat": 4,
 "nbformat_minor": 2
}

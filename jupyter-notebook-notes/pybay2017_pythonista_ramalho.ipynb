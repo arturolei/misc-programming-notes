{
 "cells": [
  {
   "cell_type": "markdown",
   "metadata": {},
   "source": [
    "# How To Think Like A Pythonista: Luciano Ramalho, 13 Agosto\n",
    "Ramalho is author of *Fluent Python* and Technical Principal at Thoughtworks\n",
    "\n",
    "*To building Pythonic objects, observe how real pythonic objects behave - Ancient Chinese Proverb*\n",
    "\n",
    "NB: He began the talk discussing his company. \n",
    "- ThoughtWorks is a great company for women\n",
    "- 30% of the devs in Brazil are women\n",
    "\n",
    "##Design Masterpieces\n",
    "- Bauhaus Chess set- the pieces are designed to remind you how they work\n",
    "\n",
    "\n",
    "He then talked about Jupyter Notebook (popular for data science)... now for a project\n",
    "\n",
    "What follows is a discussion based on First chapter of **Fluent Python**\n",
    "\n",
    "### A class to represent a playing card:\n",
    "We need something to represent cards and deck itself.\n"
   ]
  },
  {
   "cell_type": "code",
   "execution_count": 4,
   "metadata": {},
   "outputs": [
    {
     "data": {
      "text/plain": [
       "Card(rank='7', suit='diamonds')"
      ]
     },
     "execution_count": 4,
     "metadata": {},
     "output_type": "execute_result"
    }
   ],
   "source": [
    "from collections import namedtuple #class factory, builds custom class for you\n",
    "Card = namedtuple('Card', 'rank suit')\n",
    "beer_card = Card('7', 'diamonds')\n",
    "beer_card"
   ]
  },
  {
   "cell_type": "markdown",
   "metadata": {},
   "source": [
    "Now let us consider a sequence of cards."
   ]
  },
  {
   "cell_type": "code",
   "execution_count": 5,
   "metadata": {
    "collapsed": true
   },
   "outputs": [],
   "source": [
    "rank, suit = beer_card "
   ]
  },
  {
   "cell_type": "markdown",
   "metadata": {},
   "source": [
    "### Suits and Ranks"
   ]
  },
  {
   "cell_type": "code",
   "execution_count": 9,
   "metadata": {},
   "outputs": [
    {
     "data": {
      "text/plain": [
       "['2', '3', '4', '5', '6', '7', '8', '9', '10', 'J', 'K', 'Q', 'A']"
      ]
     },
     "execution_count": 9,
     "metadata": {},
     "output_type": "execute_result"
    }
   ],
   "source": [
    "SUITS = 'clubs diamonds spades hearts'.split() #Rubyesque trick\n",
    "RANKS = [str(n) for n in range(2,11)]+list('JKQA')\n",
    "RANKS"
   ]
  },
  {
   "cell_type": "markdown",
   "metadata": {},
   "source": [
    "### The Deck Class"
   ]
  },
  {
   "cell_type": "code",
   "execution_count": 10,
   "metadata": {
    "collapsed": true
   },
   "outputs": [],
   "source": [
    "class Deck:\n",
    "    def __init__(self):\n",
    "        self._cards=list(CARDS)\n",
    "    def __len__(self):\n",
    "        return len(self._cards)\n",
    "    "
   ]
  },
  {
   "cell_type": "markdown",
   "metadata": {},
   "source": [
    "Why is len not a method?\n",
    "- Efficiency cost (not wanting to make additional call/method evocation in memory)\n",
    "- Field in memory already exists for lists which contains the data. \n",
    "\n",
    "### Iteration:\n",
    "- Anything that implements __len__ and __getitem__ is iterable in some way.\n",
    "- Sorted methods can also be applied\n",
    "\n",
    "### Randomizing:\n",
    "Note consistency. Anything that is sequential can be used for random things"
   ]
  },
  {
   "cell_type": "code",
   "execution_count": 11,
   "metadata": {},
   "outputs": [
    {
     "data": {
      "text/plain": [
       "'A'"
      ]
     },
     "execution_count": 11,
     "metadata": {},
     "output_type": "execute_result"
    }
   ],
   "source": [
    "import random\n",
    "random.choice('ABCDE')\n"
   ]
  },
  {
   "cell_type": "markdown",
   "metadata": {},
   "source": [
    "### Monkey Patching Deck to support item assignment:\n",
    "- Monkey Patching = inserting/altering code as it is running\n",
    "    - A deck class is running.... we can add fuctionality to it. At run-time you can pretty much do anything. Hence, Python is called a \"dynamic\" language.\n",
    "    - Example was reaching into innards of the class\n",
    "    - Python is a language for consenting adults.\n",
    "- "
   ]
  },
  {
   "cell_type": "markdown",
   "metadata": {},
   "source": [
    "### Bonus: Operator Overloading\n",
    "\n",
    "Notice that Python has a built-in type called \"slice\" (DA CONTROLLARE)\n",
    "- Slight change to code to avoid creating a shared variable, Duck Typing (DA CONTROLLARE; what the hell is Duck typing?)--COde is safer by having list(input), where input equals Deck init object (especially with mutable collections)\n",
    "\n",
    "- NB: You can add lists. \n",
    "\n",
    "- Most classes that you are going to write will not have so many dunder methods. \n",
    "\n",
    "TAKEAWAY: He did not explain operator overloading well. \n",
    "\n",
    "Then the discussion devolved into something different. \n",
    "\n",
    "You can use itertools. \n",
    "\n",
    "Go does not have operator overloading.\n",
    "\n",
    "Out of the many features, they left out of Java--Operator overloading. \n",
    "\n",
    "A key part of Python success: operator overloading\n",
    "\n",
    "Python is growing in part due to analytics. \n",
    "\n",
    "\"Standup developer\" = live-coding and demoing\n",
    "- This is how Ramalho wishes to define itself. \n",
    "\n",
    "Q: How do you decide between the approach you showed and inheriting from a list?\n",
    "\n",
    "Q: WHat do you think will be the future of Python?\n",
    "A: In Python 3.5, the introduction of awaits and async syntax. In Python 3.6, created an asychronous list comprehension, an asychronous generator. Asynic With (native code things, Curio Project, Creo Project)\n",
    "Luciano is not a fan of the async I/O; the documentation is not beginner friendly. "
   ]
  }
 ],
 "metadata": {
  "kernelspec": {
   "display_name": "Python 3",
   "language": "python",
   "name": "python3"
  },
  "language_info": {
   "codemirror_mode": {
    "name": "ipython",
    "version": 3
   },
   "file_extension": ".py",
   "mimetype": "text/x-python",
   "name": "python",
   "nbconvert_exporter": "python",
   "pygments_lexer": "ipython3",
   "version": "3.6.0"
  }
 },
 "nbformat": 4,
 "nbformat_minor": 2
}

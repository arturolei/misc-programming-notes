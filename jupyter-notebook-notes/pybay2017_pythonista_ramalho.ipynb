{
 "cells": [
  {
   "cell_type": "markdown",
   "metadata": {},
   "source": [
    "# How To Think Like A Pythonista: Luciano Ramalho, 13 Agosto\n",
    "Ramalho is author of *Fluent Python* and Technical Principal at Thoughtworks\n",
    "\n",
    "*To building Pythonic objects, observe how real pythonic objects behave - Ancient Chinese Proverb*\n",
    "\n",
    "NB: He began the talk discussing his company. \n",
    "- ThoughtWorks is a great company for women\n",
    "- 30% of the devs in Brazil are women\n",
    "\n",
    "##Design Masterpieces\n",
    "- Bauhaus Chess set- the pieces are designed to remind you how they work\n",
    "\n",
    "\n",
    "He then talked about Jupyter Notebook (popular for data science)... now for a project\n",
    "\n",
    "### A class to represent a playing card:\n",
    "We need something to represent cards and deck itself.\n"
   ]
  },
  {
   "cell_type": "code",
   "execution_count": 4,
   "metadata": {},
   "outputs": [
    {
     "data": {
      "text/plain": [
       "Card(rank='7', suit='diamonds')"
      ]
     },
     "execution_count": 4,
     "metadata": {},
     "output_type": "execute_result"
    }
   ],
   "source": [
    "from collections import namedtuple #class factory, builds custom class for you\n",
    "Card = namedtuple('Card', 'rank suit')\n",
    "beer_card = Card('7', 'diamonds')\n",
    "beer_card"
   ]
  },
  {
   "cell_type": "markdown",
   "metadata": {},
   "source": [
    "Now let us consider a sequence of cards."
   ]
  },
  {
   "cell_type": "code",
   "execution_count": 5,
   "metadata": {
    "collapsed": true
   },
   "outputs": [],
   "source": [
    "rank, suit = beer_card "
   ]
  },
  {
   "cell_type": "markdown",
   "metadata": {},
   "source": [
    "### Suits and Ranks"
   ]
  },
  {
   "cell_type": "code",
   "execution_count": 9,
   "metadata": {},
   "outputs": [
    {
     "data": {
      "text/plain": [
       "['2', '3', '4', '5', '6', '7', '8', '9', '10', 'J', 'K', 'Q', 'A']"
      ]
     },
     "execution_count": 9,
     "metadata": {},
     "output_type": "execute_result"
    }
   ],
   "source": [
    "SUITS = 'clubs diamonds spades hearts'.split() #Rubyesque trick\n",
    "RANKS = [str(n) for n in range(2,11)]+list('JKQA')\n",
    "RANKS"
   ]
  },
  {
   "cell_type": "markdown",
   "metadata": {},
   "source": [
    "### The Deck Class"
   ]
  },
  {
   "cell_type": "code",
   "execution_count": 10,
   "metadata": {
    "collapsed": true
   },
   "outputs": [],
   "source": [
    "class Deck:\n",
    "    def __init__(self):\n",
    "        self._cards=list(CARDS)\n",
    "    def __len__(self):\n",
    "        return len(self._cards)\n",
    "    "
   ]
  },
  {
   "cell_type": "markdown",
   "metadata": {},
   "source": [
    "Why is len not a method?\n",
    "- Efficiency cost (not wanting to make additional call in memory)\n",
    "- "
   ]
  }
 ],
 "metadata": {
  "kernelspec": {
   "display_name": "Python 3",
   "language": "python",
   "name": "python3"
  },
  "language_info": {
   "codemirror_mode": {
    "name": "ipython",
    "version": 3
   },
   "file_extension": ".py",
   "mimetype": "text/x-python",
   "name": "python",
   "nbconvert_exporter": "python",
   "pygments_lexer": "ipython3",
   "version": "3.6.0"
  }
 },
 "nbformat": 4,
 "nbformat_minor": 2
}

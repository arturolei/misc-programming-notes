{
 "cells": [
  {
   "cell_type": "markdown",
   "metadata": {},
   "source": [
    "## Python Fundamentals, 2 May 2017 ##\n",
    "\n",
    "[Here are the notes for this course.](https://github.com/dlab-berkeley/python-fundamentals/blob/master/Day_1/00_Intro.md)\n",
    "\n",
    "#### A definition of programming: #### knowing how to program and programming languages could perhaps be considered as *different things*. \n",
    "* Most programmers know how to program in more than one language, but it's because they know *how to program*. Concepts are universal. Everything else is a matter of \n",
    "syntax.\n",
    "* What language you should you learn? It depends on what you are trying to accomplish.  \n",
    "\n",
    "#### What is programming like? ####\n",
    "* Most of your time will be spent de-bugging (StackOverflow is spice. Spice is life.)\n",
    "* Most of your time will be spent reading documentation and attempting to decipher it. \n",
    "* Most of your time will be spent googling errors. \n",
    "* Most of your time will be spent writing print statements. "
   ]
  },
  {
   "cell_type": "markdown",
   "metadata": {},
   "source": [
    "### Running Python ###\n",
    "\n",
    "#### Running Python in the shell ####\n",
    "\n",
    "**Simple Way:** just type 'python' in the shell. This is **interactive mode**.\n",
    "  * Probably not the best for trying to write code. \n",
    "\n",
    "**Other Simple Way:** Normal Mode\n",
    "  *Just type python (prog name).py\n",
    "\n",
    "**NB: You can tell which version of python you have by typing which python in the console.**\n",
    "\n",
    "**IDEs and Other Tools**\n",
    "- IDEs offer you an integrated development environment where you can compile, interpret, and debug. All nice looking.\n",
    "  -You can also manage packages with those. \n",
    " "
   ]
  },
  {
   "cell_type": "code",
   "execution_count": null,
   "metadata": {
    "collapsed": true
   },
   "outputs": [],
   "source": []
  }
 ],
 "metadata": {
  "kernelspec": {
   "display_name": "Python 3",
   "language": "python",
   "name": "python3"
  },
  "language_info": {
   "codemirror_mode": {
    "name": "ipython",
    "version": 3
   },
   "file_extension": ".py",
   "mimetype": "text/x-python",
   "name": "python",
   "nbconvert_exporter": "python",
   "pygments_lexer": "ipython3",
   "version": "3.6.0"
  }
 },
 "nbformat": 4,
 "nbformat_minor": 2
}

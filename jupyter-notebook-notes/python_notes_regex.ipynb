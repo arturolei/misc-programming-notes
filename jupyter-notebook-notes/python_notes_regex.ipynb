{
 "cells": [
  {
   "cell_type": "markdown",
   "metadata": {},
   "source": [
    "# regex in Python\n",
    "\n",
    "## Preliminary Comments: \n",
    "- Regular Expressions exist in Python, and can render certain tasks way easier.\n",
    "    - regex in Python is markedly different in Perl (Perl allows for 'greater freedom' at cost of potential difficulty in reading errors. \n",
    "- To use regular expressions, please remember to import the ```re``` module. \n",
    "    - Importing the re module might use precious system resources.\n",
    " \n",
    "    \n",
    "## Useful Resources:\n",
    "- [pythex](pythex.org) allows you to test expressions for python\n",
    "- []() for regex expressions in general. \n",
    "\n",
    "\n"
   ]
  },
  {
   "cell_type": "code",
   "execution_count": null,
   "metadata": {
    "collapsed": true
   },
   "outputs": [],
   "source": []
  }
 ],
 "metadata": {
  "kernelspec": {
   "display_name": "Python 3",
   "language": "python",
   "name": "python3"
  },
  "language_info": {
   "codemirror_mode": {
    "name": "ipython",
    "version": 3
   },
   "file_extension": ".py",
   "mimetype": "text/x-python",
   "name": "python",
   "nbconvert_exporter": "python",
   "pygments_lexer": "ipython3",
   "version": "3.6.0"
  }
 },
 "nbformat": 4,
 "nbformat_minor": 2
}

{
 "cells": [
  {
   "cell_type": "markdown",
   "metadata": {
    "collapsed": true
   },
   "source": [
    "# Decorators\n",
    "\n",
    "\n",
    "## Preliminary Comments: The Scope of This Adv Topics Study Group\n",
    "- The Limits or Shortcomings of the Puzzle-Based Approach to Learning Code\n",
    "- \"Easy to Code, Hard to Comprehend\" Concepts\n",
    "- A Library of Vetted Resources (Codebuddies Study Groups Resources Tab)\n",
    "- Reruns and Reboots of Previous Meetings (More Beginner Friendly) and Structured \"Programming\"\n",
    "\n",
    "\n",
    "## Some Definitions/Explanations:\n",
    "\n",
    "Colton Myers: Decorators allow you to [\"dynamically change the behavior or extend the functionality of existing functions without changing the function body.\"] (https://www.codeschool.com/blog/2016/05/12/a-guide-to-python-decorators/)\n",
    "\n",
    "[**Official Glossary Defintion**](https://docs.python.org/3/glossary.html#term-decorator): \"A function returning another function, usually applied as a function transformation using the @wrapper syntax. Common examples for decorators are classmethod() and staticmethod().\n",
    "\n",
    "The decorator syntax is merely syntactic sugar, the following two function definitions are semantically equivalent.\" \n",
    "\n",
    "**Official Glossary Definition Example**\n",
    "\n",
    "```python\n",
    "def f(...):\n",
    "    ...\n",
    "f = staticmethod(f)\n",
    "\n",
    "@staticmethod\n",
    "def f(...):\n",
    "    ...\n",
    "```\n",
    "\n",
    "\n",
    "\n",
    "\n",
    "## Some Simple Examples:"
   ]
  },
  {
   "cell_type": "code",
   "execution_count": 6,
   "metadata": {},
   "outputs": [
    {
     "name": "stdout",
     "output_type": "stream",
     "text": [
      "such wow! much default\n",
      "type of ret <class 'NoneType'>\n",
      "such wow! much cheese\n",
      "type of ret <class 'NoneType'>\n",
      "such wow! much blue\n",
      "type of ret <class 'NoneType'>\n",
      "<function shout.<locals>.inner at 0x10f722598>\n"
     ]
    }
   ],
   "source": [
    "def shout(func):\n",
    "    def inner(*args, **kwargs):\n",
    "        ret = func(*args, **kwargs)\n",
    "        print('type of ret',type(ret))\n",
    "        return ret #return func(args)\n",
    "    return inner\n",
    "\n",
    "@shout\n",
    "def doge(x=\"default\"):\n",
    "    print('such wow!', \"much\", x)\n",
    "\n",
    "doge()\n",
    "doge('cheese')\n",
    "\n",
    "something_else = shout(doge('blue'))\n",
    "print(something_else)\n",
    "\n",
    "\n",
    "\n"
   ]
  },
  {
   "cell_type": "code",
   "execution_count": 13,
   "metadata": {},
   "outputs": [
    {
     "name": "stdout",
     "output_type": "stream",
     "text": [
      "CALLING: firstdec\n"
     ]
    },
    {
     "data": {
      "text/plain": [
       "'cheesecheesecheesecheesecheese'"
      ]
     },
     "execution_count": 13,
     "metadata": {},
     "output_type": "execute_result"
    }
   ],
   "source": [
    "def printlog(func):\n",
    "    def wrapper(arg):\n",
    "        print(\"CALLING: {}\".format(func.__name__))\n",
    "        return func(arg)\n",
    "    return wrapper\n",
    "\n",
    "@printlog\n",
    "def firstdec(x=\"the message\"):\n",
    "    return x*5\n",
    "\n",
    "\n",
    "\n",
    "firstdec('cheese')"
   ]
  },
  {
   "cell_type": "markdown",
   "metadata": {},
   "source": [
    "# Extended Example: Math Operation Decorator"
   ]
  },
  {
   "cell_type": "code",
   "execution_count": 9,
   "metadata": {},
   "outputs": [
    {
     "name": "stdout",
     "output_type": "stream",
     "text": [
      "I am being called with: (4, 9)\n",
      "compute: 20 \n",
      " docstring: add \n",
      "\n",
      "I am being called with: (4,)\n",
      "multiply (longhand): 36 \n",
      "\n",
      "I am being called with: (3, 2, 1)\n",
      "supermultiply: 48\n"
     ]
    }
   ],
   "source": [
    "#def compute(a,b): #1\n",
    " #   return a + b\n",
    "from functools import wraps #see doc for updating wrapper, best practice to make sure docstrings passed to decorating function\n",
    "\n",
    "def arg_logger(n):\n",
    "    def num_args(func):\n",
    "        @wraps(func)\n",
    "        def returnfunc(*args, **kwargs): #use *args or **kwargs\n",
    "            return_val = func(*args,**kwargs) #goes up 1, to upper scope looking for funct, makes own copy/ref to func\n",
    "            print('I am being called with:', args[:n])\n",
    "            return return_val \n",
    "        #returnfunc.__doc__ = func.__doc__\n",
    "        return returnfunc\n",
    "    return num_args\n",
    "\n",
    "#compute = arg_logger(compute) #Remapping compute(a,b)\n",
    "\n",
    "'''\n",
    "arg_logger_2 = arg_logger(2)\n",
    "compute=arg_logger_2(compute)\n",
    "'''\n",
    "\n",
    "@arg_logger(2) #compute = arg_logger(2)(compute)\n",
    "def compute(a,b,c):\n",
    "    '''add'''\n",
    "    return a + b+c\n",
    "\n",
    "@arg_logger(1)\n",
    "def multiply(a,b):\n",
    "    '''Multiplies two numbers '''\n",
    "    return a*b\n",
    "\n",
    "@arg_logger(3)\n",
    "def supermultiply(a,b,c,d):\n",
    "    '''really multiply things'''\n",
    "    return a*b*c*d\n",
    "\n",
    "#multiply = arg_logger(multiply)\n",
    "\n",
    "print('compute:',compute(4,9,7), '\\n', 'docstring:', compute.__doc__,'\\n') #client code, what client code is supposed to do. Looks like #1\n",
    "print('multiply (longhand):',multiply(4,9), '\\n')\n",
    "print('supermultiply:', supermultiply(3,2,1,8))\n",
    "\n",
    "#Timer decorator?\n",
    "'''\n",
    "Time decorator --> by just decorating function with @time, \n",
    "prints time it took to run that function, essentially what Jupyter does.\n",
    "Docstrings--> Just to get into habit to think about it\n",
    "\n",
    "Time decorator should print name of function.\n",
    "EXTRA CREDIT: see \"inspect\" module (frame, line number data) \n",
    "for what can be done. \n",
    "'''"
   ]
  },
  {
   "cell_type": "markdown",
   "metadata": {},
   "source": [
    "# Additional Practice\n",
    "\n",
    "A function which performs a transform-- func(a,b): does something a and b, it could a + b, a * b, a/b\n"
   ]
  },
  {
   "cell_type": "code",
   "execution_count": null,
   "metadata": {
    "collapsed": true
   },
   "outputs": [],
   "source": [
    "def transform(func):\n",
    "    def inner(*args):\n",
    "        print('using transform')\n",
    "        ret = func(*args)\n",
    "        return ret\n",
    "    return inner\n",
    "\n",
    "@transform\n",
    "def add(a,b):\n",
    "    return a + b\n"
   ]
  },
  {
   "cell_type": "markdown",
   "metadata": {},
   "source": [
    "## Dan Gillet's Example: Keypress (To Be Revised)"
   ]
  },
  {
   "cell_type": "code",
   "execution_count": 14,
   "metadata": {},
   "outputs": [
    {
     "name": "stdout",
     "output_type": "stream",
     "text": [
      "Example showing how to print 'Hello' on pressing `a` without keyrepeats. Pressing on `d` will activate the normal key repeatbehaviour. Pressing `f` will also show 'Hello' and releasing it will show 'Bye'\n"
     ]
    },
    {
     "ename": "KeyboardInterrupt",
     "evalue": "",
     "output_type": "error",
     "traceback": [
      "\u001b[0;31m---------------------------------------------------------------------------\u001b[0m",
      "\u001b[0;31mKeyboardInterrupt\u001b[0m                         Traceback (most recent call last)",
      "\u001b[0;32m<ipython-input-14-c51221d1c317>\u001b[0m in \u001b[0;36m<module>\u001b[0;34m()\u001b[0m\n\u001b[1;32m     61\u001b[0m     \u001b[0mframe\u001b[0m\u001b[0;34m.\u001b[0m\u001b[0mbind\u001b[0m\u001b[0;34m(\u001b[0m\u001b[0;34m'<KeyRelease-f>'\u001b[0m\u001b[0;34m,\u001b[0m \u001b[0mbye\u001b[0m\u001b[0;34m)\u001b[0m\u001b[0;34m\u001b[0m\u001b[0m\n\u001b[1;32m     62\u001b[0m \u001b[0;34m\u001b[0m\u001b[0m\n\u001b[0;32m---> 63\u001b[0;31m     \u001b[0mapp\u001b[0m\u001b[0;34m.\u001b[0m\u001b[0mmainloop\u001b[0m\u001b[0;34m(\u001b[0m\u001b[0;34m)\u001b[0m\u001b[0;34m\u001b[0m\u001b[0m\n\u001b[0m",
      "\u001b[0;32m/Users/arthur/anaconda/lib/python3.6/tkinter/__init__.py\u001b[0m in \u001b[0;36mmainloop\u001b[0;34m(self, n)\u001b[0m\n\u001b[1;32m   1275\u001b[0m     \u001b[0;32mdef\u001b[0m \u001b[0mmainloop\u001b[0m\u001b[0;34m(\u001b[0m\u001b[0mself\u001b[0m\u001b[0;34m,\u001b[0m \u001b[0mn\u001b[0m\u001b[0;34m=\u001b[0m\u001b[0;36m0\u001b[0m\u001b[0;34m)\u001b[0m\u001b[0;34m:\u001b[0m\u001b[0;34m\u001b[0m\u001b[0m\n\u001b[1;32m   1276\u001b[0m         \u001b[0;34m\"\"\"Call the mainloop of Tk.\"\"\"\u001b[0m\u001b[0;34m\u001b[0m\u001b[0m\n\u001b[0;32m-> 1277\u001b[0;31m         \u001b[0mself\u001b[0m\u001b[0;34m.\u001b[0m\u001b[0mtk\u001b[0m\u001b[0;34m.\u001b[0m\u001b[0mmainloop\u001b[0m\u001b[0;34m(\u001b[0m\u001b[0mn\u001b[0m\u001b[0;34m)\u001b[0m\u001b[0;34m\u001b[0m\u001b[0m\n\u001b[0m\u001b[1;32m   1278\u001b[0m     \u001b[0;32mdef\u001b[0m \u001b[0mquit\u001b[0m\u001b[0;34m(\u001b[0m\u001b[0mself\u001b[0m\u001b[0;34m)\u001b[0m\u001b[0;34m:\u001b[0m\u001b[0;34m\u001b[0m\u001b[0m\n\u001b[1;32m   1279\u001b[0m         \u001b[0;34m\"\"\"Quit the Tcl interpreter. All widgets will be destroyed.\"\"\"\u001b[0m\u001b[0;34m\u001b[0m\u001b[0m\n",
      "\u001b[0;31mKeyboardInterrupt\u001b[0m: "
     ]
    }
   ],
   "source": [
    "#!/usr/bin/env python3\n",
    "# -*- coding: utf-8 -*-\n",
    " \n",
    "from functools import wraps\n",
    " \n",
    "def on_key_down(func):\n",
    "    '''Decorator for callbacks to only response on KeyDown event in tkinter.\n",
    "     \n",
    "    Usage: decorate the callback with this decorator and it will not\n",
    "            be called repeatedly due to key repeats from OS.\n",
    "    '''\n",
    "    key_down = False\n",
    "     \n",
    "    def on_key_up(event):\n",
    "        nonlocal key_down\n",
    "        key_down = False\n",
    "     \n",
    "    @wraps(func)\n",
    "    def wrapper(event):\n",
    "        nonlocal key_down\n",
    "        if key_down:\n",
    "            return\n",
    "        else:\n",
    "            event.widget.bind('<KeyRelease-{}>'.format(event.keysym), on_key_up, add='+')\n",
    "            func(event)\n",
    "            key_down = True\n",
    "     \n",
    "    return wrapper\n",
    " \n",
    "if __name__ == '__main__':\n",
    "    print(\"Example showing how to print 'Hello' on pressing `a` without key\"\n",
    "        \"repeats. Pressing on `d` will activate the normal key repeat\"\n",
    "        \"behaviour. Pressing `f` will also show 'Hello' and releasing it \"\n",
    "        \"will show 'Bye'\")\n",
    "    from tkinter import *\n",
    " \n",
    "    @on_key_down\n",
    "    def hello(event):\n",
    "        print('Hello')\n",
    "     \n",
    "    def bye(event):\n",
    "        print('Bye')\n",
    "\n",
    "    def hello_repeats(event):\n",
    "        print(\"Lots of hello's\")\n",
    "\n",
    "    @on_key_down\n",
    "    def whatever(event):\n",
    "        print(\"whatever\")\n",
    "         \n",
    "    app = Tk()\n",
    "    app.bind('<a>', hello)\n",
    "    app.bind('<d>', hello_repeats)\n",
    "    app.bind('<w>', whatever)\n",
    "     \n",
    "    frame = Frame(app)\n",
    "    frame.pack()\n",
    "    frame.focus_set()\n",
    "    frame.bind('<f>', hello)\n",
    "    # Key-release events are still working normally\n",
    "    frame.bind('<KeyRelease-f>', bye)\n",
    " \n",
    "    app.mainloop()"
   ]
  },
  {
   "cell_type": "markdown",
   "metadata": {},
   "source": [
    "## Simple Example: "
   ]
  },
  {
   "cell_type": "code",
   "execution_count": 1,
   "metadata": {},
   "outputs": [
    {
     "ename": "TypeError",
     "evalue": "apply() missing 2 required positional arguments: 'x' and 'y'",
     "output_type": "error",
     "traceback": [
      "\u001b[0;31m---------------------------------------------------------------------------\u001b[0m",
      "\u001b[0;31mTypeError\u001b[0m                                 Traceback (most recent call last)",
      "\u001b[0;32m<ipython-input-1-f8af51653d8a>\u001b[0m in \u001b[0;36m<module>\u001b[0;34m()\u001b[0m\n\u001b[1;32m      1\u001b[0m \u001b[0;32mdef\u001b[0m \u001b[0mapply\u001b[0m\u001b[0;34m(\u001b[0m\u001b[0mfunc\u001b[0m\u001b[0;34m,\u001b[0m \u001b[0mx\u001b[0m\u001b[0;34m,\u001b[0m \u001b[0my\u001b[0m\u001b[0;34m)\u001b[0m\u001b[0;34m:\u001b[0m \u001b[0;31m# 1\u001b[0m\u001b[0;34m\u001b[0m\u001b[0m\n\u001b[1;32m      2\u001b[0m     \u001b[0;32mreturn\u001b[0m \u001b[0mfunc\u001b[0m\u001b[0;34m(\u001b[0m\u001b[0mx\u001b[0m\u001b[0;34m,\u001b[0m \u001b[0my\u001b[0m\u001b[0;34m)\u001b[0m \u001b[0;31m# 2\u001b[0m\u001b[0;34m\u001b[0m\u001b[0m\n\u001b[0;32m----> 3\u001b[0;31m \u001b[0;34m@\u001b[0m\u001b[0mapply\u001b[0m\u001b[0;34m\u001b[0m\u001b[0m\n\u001b[0m\u001b[1;32m      4\u001b[0m \u001b[0;32mdef\u001b[0m \u001b[0madd\u001b[0m\u001b[0;34m(\u001b[0m\u001b[0mx\u001b[0m\u001b[0;34m,\u001b[0m \u001b[0my\u001b[0m\u001b[0;34m)\u001b[0m\u001b[0;34m:\u001b[0m\u001b[0;34m\u001b[0m\u001b[0m\n\u001b[1;32m      5\u001b[0m     \u001b[0;32mreturn\u001b[0m \u001b[0mx\u001b[0m \u001b[0;34m+\u001b[0m \u001b[0my\u001b[0m\u001b[0;34m\u001b[0m\u001b[0m\n",
      "\u001b[0;31mTypeError\u001b[0m: apply() missing 2 required positional arguments: 'x' and 'y'"
     ]
    }
   ],
   "source": [
    "def apply(func): # 1\n",
    "    def inner(func)\n",
    "\n",
    "@apply\n",
    "def add(x, y):\n",
    "    return x + y\n",
    "\n",
    "@apply\n",
    "def sub(x, y):\n",
    "    return x - y\n",
    "\n",
    "add(5,2)"
   ]
  },
  {
   "cell_type": "markdown",
   "metadata": {},
   "source": [
    "### Scratchpad"
   ]
  },
  {
   "cell_type": "code",
   "execution_count": 15,
   "metadata": {},
   "outputs": [
    {
     "name": "stdout",
     "output_type": "stream",
     "text": [
      "True\n"
     ]
    }
   ],
   "source": [
    "print(issubclass(str,object))"
   ]
  },
  {
   "cell_type": "code",
   "execution_count": 16,
   "metadata": {},
   "outputs": [
    {
     "data": {
      "text/plain": [
       "4"
      ]
     },
     "execution_count": 16,
     "metadata": {},
     "output_type": "execute_result"
    }
   ],
   "source": [
    "2+2"
   ]
  },
  {
   "cell_type": "code",
   "execution_count": 21,
   "metadata": {},
   "outputs": [
    {
     "name": "stdout",
     "output_type": "stream",
     "text": [
      "a: 100\n",
      "b: 5\n",
      "a: 2\n",
      "b: 3\n"
     ]
    },
    {
     "data": {
      "text/plain": [
       "-1"
      ]
     },
     "execution_count": 21,
     "metadata": {},
     "output_type": "execute_result"
    }
   ],
   "source": [
    "def test_func(a = 1, b=0):\n",
    "    print('a:', a)\n",
    "    print('b:', b)\n",
    "    return a-b\n",
    "\n",
    "test_func(b=5, a=100)  #order doesn't matter if named keywords specified\n",
    "test_func(2, 3) #generic case\n",
    "#test_func(alpha =5, zeta =9) NB: This will not work. You cannot use keywords created on the fly."
   ]
  },
  {
   "cell_type": "code",
   "execution_count": 27,
   "metadata": {},
   "outputs": [
    {
     "name": "stdout",
     "output_type": "stream",
     "text": [
      "them locals: {'global_string': 'poo fire'}\n",
      "print local global_string: poo fire\n",
      "On top of the world\n",
      "At global level, ma\n"
     ]
    }
   ],
   "source": [
    "global_string =\"At global level, ma\"\n",
    "global_string2 =\"On top of the world\"\n",
    "def print_locals():\n",
    "    global_string = 'poo fire'\n",
    "    print ('them locals:', locals())\n",
    "    #print('them globals:', globals())\n",
    "    print ('print local global_string:', global_string) #will look first at function namespace, therefore this should be poofire\n",
    "    print(global_string2)\n",
    "print_locals()\n",
    "print(global_string)"
   ]
  },
  {
   "cell_type": "code",
   "execution_count": null,
   "metadata": {
    "collapsed": true
   },
   "outputs": [],
   "source": []
  }
 ],
 "metadata": {
  "kernelspec": {
   "display_name": "Python 3",
   "language": "python",
   "name": "python3"
  },
  "language_info": {
   "codemirror_mode": {
    "name": "ipython",
    "version": 3
   },
   "file_extension": ".py",
   "mimetype": "text/x-python",
   "name": "python",
   "nbconvert_exporter": "python",
   "pygments_lexer": "ipython3",
   "version": "3.6.1"
  }
 },
 "nbformat": 4,
 "nbformat_minor": 2
}

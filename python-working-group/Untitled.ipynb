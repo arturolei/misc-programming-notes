{
 "cells": [
  {
   "cell_type": "code",
   "execution_count": 7,
   "metadata": {},
   "outputs": [
    {
     "name": "stdout",
     "output_type": "stream",
     "text": [
      "Function: decoratedfac , Time: 0.01 ms\n"
     ]
    },
    {
     "data": {
      "text/plain": [
       "3628800"
      ]
     },
     "execution_count": 7,
     "metadata": {},
     "output_type": "execute_result"
    }
   ],
   "source": [
    "from functools import wraps\n",
    "import time\n",
    "def timeywimey(func):\n",
    "    @wraps(func)\n",
    "    def inner(*args):\n",
    "        t0= time.process_time()\n",
    "        ret = func(*args)\n",
    "        t1= time.process_time()\n",
    "        td = t1-t0\n",
    "        print('Function:',func.__name__,', Time: {:.2f} ms'.format(td*1000))\n",
    "        return ret\n",
    "    return inner\n",
    "\n",
    "def factorial( n ):\n",
    "   if n <1:   # base case\n",
    "       return 1\n",
    "   else:\n",
    "       returnNumber = n * factorial( n - 1 )  # recursive call\n",
    "       #print(str(n) + '! = ' + str(returnNumber))\n",
    "       return returnNumber\n",
    "    \n",
    "@timeywimey\n",
    "def decoratedfac(n):\n",
    "    return factorial(n)\n",
    "\n",
    "decoratedfac(10)"
   ]
  },
  {
   "cell_type": "code",
   "execution_count": null,
   "metadata": {
    "collapsed": true
   },
   "outputs": [],
   "source": []
  }
 ],
 "metadata": {
  "kernelspec": {
   "display_name": "Python 3",
   "language": "python",
   "name": "python3"
  },
  "language_info": {
   "codemirror_mode": {
    "name": "ipython",
    "version": 3
   },
   "file_extension": ".py",
   "mimetype": "text/x-python",
   "name": "python",
   "nbconvert_exporter": "python",
   "pygments_lexer": "ipython3",
   "version": "3.6.1"
  }
 },
 "nbformat": 4,
 "nbformat_minor": 2
}
